{
 "cells": [
  {
   "cell_type": "markdown",
   "metadata": {},
   "source": [
    "## Problem Statement."
   ]
  },
  {
   "cell_type": "markdown",
   "metadata": {},
   "source": [
    "**_To build a model for HELP International humanitarian NGO to analyse which countries are in need of the provision of basic amenities and relief during any sort of calamities._**"
   ]
  },
  {
   "cell_type": "code",
   "execution_count": 1,
   "metadata": {},
   "outputs": [],
   "source": [
    "import numpy as np\n",
    "import pandas as pd\n",
    "import matplotlib.pyplot as plt\n",
    "import seaborn as sns\n",
    "\n",
    "import datetime as dt\n",
    "\n",
    "import sklearn\n",
    "from sklearn.preprocessing import StandardScaler\n",
    "from sklearn.cluster import KMeans\n",
    "from sklearn.metrics import silhouette_score\n",
    "\n",
    "from scipy.cluster.hierarchy import linkage\n",
    "from scipy.cluster.hierarchy import dendrogram\n",
    "from scipy.cluster.hierarchy import cut_tree"
   ]
  },
  {
   "cell_type": "markdown",
   "metadata": {},
   "source": [
    "## Step 1: Reading and Visualizing the Data."
   ]
  },
  {
   "cell_type": "code",
   "execution_count": 2,
   "metadata": {},
   "outputs": [
    {
     "data": {
      "text/html": [
       "<div>\n",
       "<style scoped>\n",
       "    .dataframe tbody tr th:only-of-type {\n",
       "        vertical-align: middle;\n",
       "    }\n",
       "\n",
       "    .dataframe tbody tr th {\n",
       "        vertical-align: top;\n",
       "    }\n",
       "\n",
       "    .dataframe thead th {\n",
       "        text-align: right;\n",
       "    }\n",
       "</style>\n",
       "<table border=\"1\" class=\"dataframe\">\n",
       "  <thead>\n",
       "    <tr style=\"text-align: right;\">\n",
       "      <th></th>\n",
       "      <th>country</th>\n",
       "      <th>child_mort</th>\n",
       "      <th>exports</th>\n",
       "      <th>health</th>\n",
       "      <th>imports</th>\n",
       "      <th>income</th>\n",
       "      <th>inflation</th>\n",
       "      <th>life_expec</th>\n",
       "      <th>total_fer</th>\n",
       "      <th>gdpp</th>\n",
       "    </tr>\n",
       "  </thead>\n",
       "  <tbody>\n",
       "    <tr>\n",
       "      <td>0</td>\n",
       "      <td>Afghanistan</td>\n",
       "      <td>90.2</td>\n",
       "      <td>10.0</td>\n",
       "      <td>7.58</td>\n",
       "      <td>44.9</td>\n",
       "      <td>1610</td>\n",
       "      <td>9.44</td>\n",
       "      <td>56.2</td>\n",
       "      <td>5.82</td>\n",
       "      <td>553</td>\n",
       "    </tr>\n",
       "    <tr>\n",
       "      <td>1</td>\n",
       "      <td>Albania</td>\n",
       "      <td>16.6</td>\n",
       "      <td>28.0</td>\n",
       "      <td>6.55</td>\n",
       "      <td>48.6</td>\n",
       "      <td>9930</td>\n",
       "      <td>4.49</td>\n",
       "      <td>76.3</td>\n",
       "      <td>1.65</td>\n",
       "      <td>4090</td>\n",
       "    </tr>\n",
       "    <tr>\n",
       "      <td>2</td>\n",
       "      <td>Algeria</td>\n",
       "      <td>27.3</td>\n",
       "      <td>38.4</td>\n",
       "      <td>4.17</td>\n",
       "      <td>31.4</td>\n",
       "      <td>12900</td>\n",
       "      <td>16.10</td>\n",
       "      <td>76.5</td>\n",
       "      <td>2.89</td>\n",
       "      <td>4460</td>\n",
       "    </tr>\n",
       "    <tr>\n",
       "      <td>3</td>\n",
       "      <td>Angola</td>\n",
       "      <td>119.0</td>\n",
       "      <td>62.3</td>\n",
       "      <td>2.85</td>\n",
       "      <td>42.9</td>\n",
       "      <td>5900</td>\n",
       "      <td>22.40</td>\n",
       "      <td>60.1</td>\n",
       "      <td>6.16</td>\n",
       "      <td>3530</td>\n",
       "    </tr>\n",
       "    <tr>\n",
       "      <td>4</td>\n",
       "      <td>Antigua and Barbuda</td>\n",
       "      <td>10.3</td>\n",
       "      <td>45.5</td>\n",
       "      <td>6.03</td>\n",
       "      <td>58.9</td>\n",
       "      <td>19100</td>\n",
       "      <td>1.44</td>\n",
       "      <td>76.8</td>\n",
       "      <td>2.13</td>\n",
       "      <td>12200</td>\n",
       "    </tr>\n",
       "  </tbody>\n",
       "</table>\n",
       "</div>"
      ],
      "text/plain": [
       "               country  child_mort  exports  health  imports  income  \\\n",
       "0          Afghanistan        90.2     10.0    7.58     44.9    1610   \n",
       "1              Albania        16.6     28.0    6.55     48.6    9930   \n",
       "2              Algeria        27.3     38.4    4.17     31.4   12900   \n",
       "3               Angola       119.0     62.3    2.85     42.9    5900   \n",
       "4  Antigua and Barbuda        10.3     45.5    6.03     58.9   19100   \n",
       "\n",
       "   inflation  life_expec  total_fer   gdpp  \n",
       "0       9.44        56.2       5.82    553  \n",
       "1       4.49        76.3       1.65   4090  \n",
       "2      16.10        76.5       2.89   4460  \n",
       "3      22.40        60.1       6.16   3530  \n",
       "4       1.44        76.8       2.13  12200  "
      ]
     },
     "execution_count": 2,
     "metadata": {},
     "output_type": "execute_result"
    }
   ],
   "source": [
    "ngo = pd.read_csv(r\"C:\\Users\\FS066229\\OneDrive - Cerner Corporation\\Documents\\Python\\Clustering assignment\\Country-Data.csv\")\n",
    "ngo.head()"
   ]
  },
  {
   "cell_type": "code",
   "execution_count": 3,
   "metadata": {},
   "outputs": [
    {
     "data": {
      "text/plain": [
       "(167, 10)"
      ]
     },
     "execution_count": 3,
     "metadata": {},
     "output_type": "execute_result"
    }
   ],
   "source": [
    "ngo.shape"
   ]
  },
  {
   "cell_type": "code",
   "execution_count": 4,
   "metadata": {},
   "outputs": [
    {
     "name": "stdout",
     "output_type": "stream",
     "text": [
      "<class 'pandas.core.frame.DataFrame'>\n",
      "RangeIndex: 167 entries, 0 to 166\n",
      "Data columns (total 10 columns):\n",
      "country       167 non-null object\n",
      "child_mort    167 non-null float64\n",
      "exports       167 non-null float64\n",
      "health        167 non-null float64\n",
      "imports       167 non-null float64\n",
      "income        167 non-null int64\n",
      "inflation     167 non-null float64\n",
      "life_expec    167 non-null float64\n",
      "total_fer     167 non-null float64\n",
      "gdpp          167 non-null int64\n",
      "dtypes: float64(7), int64(2), object(1)\n",
      "memory usage: 13.2+ KB\n"
     ]
    }
   ],
   "source": [
    "ngo.info()"
   ]
  },
  {
   "cell_type": "markdown",
   "metadata": {},
   "source": [
    "## Step 2: Cleaning the data and Preparing the Data."
   ]
  },
  {
   "cell_type": "code",
   "execution_count": 5,
   "metadata": {},
   "outputs": [
    {
     "data": {
      "text/plain": [
       "country       0\n",
       "child_mort    0\n",
       "exports       0\n",
       "health        0\n",
       "imports       0\n",
       "income        0\n",
       "inflation     0\n",
       "life_expec    0\n",
       "total_fer     0\n",
       "gdpp          0\n",
       "dtype: int64"
      ]
     },
     "execution_count": 5,
     "metadata": {},
     "output_type": "execute_result"
    }
   ],
   "source": [
    "ngo.isnull().sum()"
   ]
  },
  {
   "cell_type": "markdown",
   "metadata": {},
   "source": [
    "**_Since there are no missing values we do not need the steps of imputation or removing the data._**"
   ]
  },
  {
   "cell_type": "markdown",
   "metadata": {},
   "source": [
    "#### Since the values of column health, export and import are in percentage we need to convert there values to original."
   ]
  },
  {
   "cell_type": "code",
   "execution_count": 6,
   "metadata": {},
   "outputs": [],
   "source": [
    "ngo['health'] = ngo['health'] * ngo['gdpp'] / 100"
   ]
  },
  {
   "cell_type": "code",
   "execution_count": 7,
   "metadata": {},
   "outputs": [
    {
     "data": {
      "text/html": [
       "<div>\n",
       "<style scoped>\n",
       "    .dataframe tbody tr th:only-of-type {\n",
       "        vertical-align: middle;\n",
       "    }\n",
       "\n",
       "    .dataframe tbody tr th {\n",
       "        vertical-align: top;\n",
       "    }\n",
       "\n",
       "    .dataframe thead th {\n",
       "        text-align: right;\n",
       "    }\n",
       "</style>\n",
       "<table border=\"1\" class=\"dataframe\">\n",
       "  <thead>\n",
       "    <tr style=\"text-align: right;\">\n",
       "      <th></th>\n",
       "      <th>country</th>\n",
       "      <th>child_mort</th>\n",
       "      <th>exports</th>\n",
       "      <th>health</th>\n",
       "      <th>imports</th>\n",
       "      <th>income</th>\n",
       "      <th>inflation</th>\n",
       "      <th>life_expec</th>\n",
       "      <th>total_fer</th>\n",
       "      <th>gdpp</th>\n",
       "    </tr>\n",
       "  </thead>\n",
       "  <tbody>\n",
       "    <tr>\n",
       "      <td>0</td>\n",
       "      <td>Afghanistan</td>\n",
       "      <td>90.2</td>\n",
       "      <td>55.30</td>\n",
       "      <td>41.9174</td>\n",
       "      <td>248.297</td>\n",
       "      <td>1610</td>\n",
       "      <td>9.44</td>\n",
       "      <td>56.2</td>\n",
       "      <td>5.82</td>\n",
       "      <td>553</td>\n",
       "    </tr>\n",
       "    <tr>\n",
       "      <td>1</td>\n",
       "      <td>Albania</td>\n",
       "      <td>16.6</td>\n",
       "      <td>1145.20</td>\n",
       "      <td>267.8950</td>\n",
       "      <td>1987.740</td>\n",
       "      <td>9930</td>\n",
       "      <td>4.49</td>\n",
       "      <td>76.3</td>\n",
       "      <td>1.65</td>\n",
       "      <td>4090</td>\n",
       "    </tr>\n",
       "    <tr>\n",
       "      <td>2</td>\n",
       "      <td>Algeria</td>\n",
       "      <td>27.3</td>\n",
       "      <td>1712.64</td>\n",
       "      <td>185.9820</td>\n",
       "      <td>1400.440</td>\n",
       "      <td>12900</td>\n",
       "      <td>16.10</td>\n",
       "      <td>76.5</td>\n",
       "      <td>2.89</td>\n",
       "      <td>4460</td>\n",
       "    </tr>\n",
       "    <tr>\n",
       "      <td>3</td>\n",
       "      <td>Angola</td>\n",
       "      <td>119.0</td>\n",
       "      <td>2199.19</td>\n",
       "      <td>100.6050</td>\n",
       "      <td>1514.370</td>\n",
       "      <td>5900</td>\n",
       "      <td>22.40</td>\n",
       "      <td>60.1</td>\n",
       "      <td>6.16</td>\n",
       "      <td>3530</td>\n",
       "    </tr>\n",
       "    <tr>\n",
       "      <td>4</td>\n",
       "      <td>Antigua and Barbuda</td>\n",
       "      <td>10.3</td>\n",
       "      <td>5551.00</td>\n",
       "      <td>735.6600</td>\n",
       "      <td>7185.800</td>\n",
       "      <td>19100</td>\n",
       "      <td>1.44</td>\n",
       "      <td>76.8</td>\n",
       "      <td>2.13</td>\n",
       "      <td>12200</td>\n",
       "    </tr>\n",
       "  </tbody>\n",
       "</table>\n",
       "</div>"
      ],
      "text/plain": [
       "               country  child_mort  exports    health   imports  income  \\\n",
       "0          Afghanistan        90.2    55.30   41.9174   248.297    1610   \n",
       "1              Albania        16.6  1145.20  267.8950  1987.740    9930   \n",
       "2              Algeria        27.3  1712.64  185.9820  1400.440   12900   \n",
       "3               Angola       119.0  2199.19  100.6050  1514.370    5900   \n",
       "4  Antigua and Barbuda        10.3  5551.00  735.6600  7185.800   19100   \n",
       "\n",
       "   inflation  life_expec  total_fer   gdpp  \n",
       "0       9.44        56.2       5.82    553  \n",
       "1       4.49        76.3       1.65   4090  \n",
       "2      16.10        76.5       2.89   4460  \n",
       "3      22.40        60.1       6.16   3530  \n",
       "4       1.44        76.8       2.13  12200  "
      ]
     },
     "execution_count": 7,
     "metadata": {},
     "output_type": "execute_result"
    }
   ],
   "source": [
    "ngo['exports'] = ngo['exports'] * ngo['gdpp'] /100\n",
    "ngo['imports'] = ngo['imports'] * ngo['gdpp'] /100\n",
    "ngo.head()"
   ]
  },
  {
   "cell_type": "markdown",
   "metadata": {},
   "source": [
    "## Step 3 - Exploratory Data analysis"
   ]
  },
  {
   "cell_type": "markdown",
   "metadata": {},
   "source": [
    "### Univariate Analysis."
   ]
  },
  {
   "cell_type": "code",
   "execution_count": 8,
   "metadata": {},
   "outputs": [
    {
     "data": {
      "image/png": "[encoded data removed]",
      "text/plain": [
       "<Figure size 1080x1080 with 4 Axes>"
      ]
     },
     "metadata": {
      "needs_background": "light"
     },
     "output_type": "display_data"
    }
   ],
   "source": [
    "plots = ['child_mort','exports','health','imports']\n",
    "plt.figure(figsize = (15,15))\n",
    "for i in enumerate(plots):\n",
    "    plt.subplot(4,2,i[0]+1)\n",
    "    sns.distplot(ngo[i[1]])"
   ]
  },
  {
   "cell_type": "code",
   "execution_count": 9,
   "metadata": {},
   "outputs": [
    {
     "data": {
      "image/png": "[encoded data removed]",
      "text/plain": [
       "<Figure size 1080x1224 with 5 Axes>"
      ]
     },
     "metadata": {
      "needs_background": "light"
     },
     "output_type": "display_data"
    }
   ],
   "source": [
    "plots1 = ['income','inflation','life_expec','total_fer','gdpp']\n",
    "plt.figure(figsize = (15,17))\n",
    "for i in enumerate(plots1):\n",
    "    plt.subplot(5,3,i[0]+1)\n",
    "    sns.distplot(ngo[i[1]])"
   ]
  },
  {
   "cell_type": "markdown",
   "metadata": {},
   "source": [
    "**_From the above plots it shows that the columns are not in normal distribution and we can see a pattern in all the plots, it can be interpreted that the columns with child mortality rate, total health capita, income per person, inflation rate of the country, life expectancy, total fertility and GDP per captia have more information and will be helpful in analyzing as to which countries are in need of the ngo's help, as we can observe a pattern in all these columns and are not in a normal distribution._**"
   ]
  },
  {
   "cell_type": "code",
   "execution_count": 10,
   "metadata": {},
   "outputs": [
    {
     "data": {
      "text/html": [
       "<div>\n",
       "<style scoped>\n",
       "    .dataframe tbody tr th:only-of-type {\n",
       "        vertical-align: middle;\n",
       "    }\n",
       "\n",
       "    .dataframe tbody tr th {\n",
       "        vertical-align: top;\n",
       "    }\n",
       "\n",
       "    .dataframe thead th {\n",
       "        text-align: right;\n",
       "    }\n",
       "</style>\n",
       "<table border=\"1\" class=\"dataframe\">\n",
       "  <thead>\n",
       "    <tr style=\"text-align: right;\">\n",
       "      <th></th>\n",
       "      <th>child_mort</th>\n",
       "      <th>exports</th>\n",
       "      <th>health</th>\n",
       "      <th>imports</th>\n",
       "      <th>income</th>\n",
       "      <th>inflation</th>\n",
       "      <th>life_expec</th>\n",
       "      <th>total_fer</th>\n",
       "      <th>gdpp</th>\n",
       "    </tr>\n",
       "  </thead>\n",
       "  <tbody>\n",
       "    <tr>\n",
       "      <td>child_mort</td>\n",
       "      <td>1.000000</td>\n",
       "      <td>-0.297230</td>\n",
       "      <td>-0.430438</td>\n",
       "      <td>-0.319138</td>\n",
       "      <td>-0.524315</td>\n",
       "      <td>0.288276</td>\n",
       "      <td>-0.886676</td>\n",
       "      <td>0.848478</td>\n",
       "      <td>-0.483032</td>\n",
       "    </tr>\n",
       "    <tr>\n",
       "      <td>exports</td>\n",
       "      <td>-0.297230</td>\n",
       "      <td>1.000000</td>\n",
       "      <td>0.612919</td>\n",
       "      <td>0.987686</td>\n",
       "      <td>0.725351</td>\n",
       "      <td>-0.141553</td>\n",
       "      <td>0.377694</td>\n",
       "      <td>-0.291096</td>\n",
       "      <td>0.768894</td>\n",
       "    </tr>\n",
       "    <tr>\n",
       "      <td>health</td>\n",
       "      <td>-0.430438</td>\n",
       "      <td>0.612919</td>\n",
       "      <td>1.000000</td>\n",
       "      <td>0.638581</td>\n",
       "      <td>0.690857</td>\n",
       "      <td>-0.253956</td>\n",
       "      <td>0.545626</td>\n",
       "      <td>-0.407984</td>\n",
       "      <td>0.916593</td>\n",
       "    </tr>\n",
       "    <tr>\n",
       "      <td>imports</td>\n",
       "      <td>-0.319138</td>\n",
       "      <td>0.987686</td>\n",
       "      <td>0.638581</td>\n",
       "      <td>1.000000</td>\n",
       "      <td>0.672056</td>\n",
       "      <td>-0.179458</td>\n",
       "      <td>0.397515</td>\n",
       "      <td>-0.317061</td>\n",
       "      <td>0.755114</td>\n",
       "    </tr>\n",
       "    <tr>\n",
       "      <td>income</td>\n",
       "      <td>-0.524315</td>\n",
       "      <td>0.725351</td>\n",
       "      <td>0.690857</td>\n",
       "      <td>0.672056</td>\n",
       "      <td>1.000000</td>\n",
       "      <td>-0.147756</td>\n",
       "      <td>0.611962</td>\n",
       "      <td>-0.501840</td>\n",
       "      <td>0.895571</td>\n",
       "    </tr>\n",
       "    <tr>\n",
       "      <td>inflation</td>\n",
       "      <td>0.288276</td>\n",
       "      <td>-0.141553</td>\n",
       "      <td>-0.253956</td>\n",
       "      <td>-0.179458</td>\n",
       "      <td>-0.147756</td>\n",
       "      <td>1.000000</td>\n",
       "      <td>-0.239705</td>\n",
       "      <td>0.316921</td>\n",
       "      <td>-0.221631</td>\n",
       "    </tr>\n",
       "    <tr>\n",
       "      <td>life_expec</td>\n",
       "      <td>-0.886676</td>\n",
       "      <td>0.377694</td>\n",
       "      <td>0.545626</td>\n",
       "      <td>0.397515</td>\n",
       "      <td>0.611962</td>\n",
       "      <td>-0.239705</td>\n",
       "      <td>1.000000</td>\n",
       "      <td>-0.760875</td>\n",
       "      <td>0.600089</td>\n",
       "    </tr>\n",
       "    <tr>\n",
       "      <td>total_fer</td>\n",
       "      <td>0.848478</td>\n",
       "      <td>-0.291096</td>\n",
       "      <td>-0.407984</td>\n",
       "      <td>-0.317061</td>\n",
       "      <td>-0.501840</td>\n",
       "      <td>0.316921</td>\n",
       "      <td>-0.760875</td>\n",
       "      <td>1.000000</td>\n",
       "      <td>-0.454910</td>\n",
       "    </tr>\n",
       "    <tr>\n",
       "      <td>gdpp</td>\n",
       "      <td>-0.483032</td>\n",
       "      <td>0.768894</td>\n",
       "      <td>0.916593</td>\n",
       "      <td>0.755114</td>\n",
       "      <td>0.895571</td>\n",
       "      <td>-0.221631</td>\n",
       "      <td>0.600089</td>\n",
       "      <td>-0.454910</td>\n",
       "      <td>1.000000</td>\n",
       "    </tr>\n",
       "  </tbody>\n",
       "</table>\n",
       "</div>"
      ],
      "text/plain": [
       "            child_mort   exports    health   imports    income  inflation  \\\n",
       "child_mort    1.000000 -0.297230 -0.430438 -0.319138 -0.524315   0.288276   \n",
       "exports      -0.297230  1.000000  0.612919  0.987686  0.725351  -0.141553   \n",
       "health       -0.430438  0.612919  1.000000  0.638581  0.690857  -0.253956   \n",
       "imports      -0.319138  0.987686  0.638581  1.000000  0.672056  -0.179458   \n",
       "income       -0.524315  0.725351  0.690857  0.672056  1.000000  -0.147756   \n",
       "inflation     0.288276 -0.141553 -0.253956 -0.179458 -0.147756   1.000000   \n",
       "life_expec   -0.886676  0.377694  0.545626  0.397515  0.611962  -0.239705   \n",
       "total_fer     0.848478 -0.291096 -0.407984 -0.317061 -0.501840   0.316921   \n",
       "gdpp         -0.483032  0.768894  0.916593  0.755114  0.895571  -0.221631   \n",
       "\n",
       "            life_expec  total_fer      gdpp  \n",
       "child_mort   -0.886676   0.848478 -0.483032  \n",
       "exports       0.377694  -0.291096  0.768894  \n",
       "health        0.545626  -0.407984  0.916593  \n",
       "imports       0.397515  -0.317061  0.755114  \n",
       "income        0.611962  -0.501840  0.895571  \n",
       "inflation    -0.239705   0.316921 -0.221631  \n",
       "life_expec    1.000000  -0.760875  0.600089  \n",
       "total_fer    -0.760875   1.000000 -0.454910  \n",
       "gdpp          0.600089  -0.454910  1.000000  "
      ]
     },
     "execution_count": 10,
     "metadata": {},
     "output_type": "execute_result"
    }
   ],
   "source": [
    "corr1 = ngo[['child_mort','exports','health','imports','income','inflation','life_expec','total_fer','gdpp']].corr()\n",
    "corr1"
   ]
  },
  {
   "cell_type": "code",
   "execution_count": 11,
   "metadata": {
    "scrolled": true
   },
   "outputs": [
    {
     "data": {
      "image/png": "[encoded data removed]",
      "text/plain": [
       "<Figure size 720x720 with 2 Axes>"
      ]
     },
     "metadata": {
      "needs_background": "light"
     },
     "output_type": "display_data"
    }
   ],
   "source": [
    "plt.figure(figsize = (10,10))\n",
    "ax = sns.heatmap(corr1, annot = True, cmap = 'PiYG')\n",
    "bottom, top = ax.get_ylim()\n",
    "ax.set_ylim(bottom+0.5, top-0.5)\n",
    "plt.show()"
   ]
  },
  {
   "cell_type": "markdown",
   "metadata": {},
   "source": [
    "**_From the above correlation matrix we can make out that there are few columns which are highly correlated like total_fer and child_mort which have value of 0.85 and few of them have a negative correlation as well._**"
   ]
  },
  {
   "cell_type": "markdown",
   "metadata": {},
   "source": [
    "### Checking for outliers."
   ]
  },
  {
   "cell_type": "markdown",
   "metadata": {},
   "source": [
    "**_Using the capping method for the treatment of outliers._**"
   ]
  },
  {
   "cell_type": "code",
   "execution_count": 12,
   "metadata": {
    "scrolled": true
   },
   "outputs": [
    {
     "data": {
      "text/plain": [
       "<matplotlib.axes._subplots.AxesSubplot at 0x1f8eef986c8>"
      ]
     },
     "execution_count": 12,
     "metadata": {},
     "output_type": "execute_result"
    },
    {
     "data": {
      "image/png": "[encoded data removed]",
      "text/plain": [
       "<Figure size 864x864 with 9 Axes>"
      ]
     },
     "metadata": {
      "needs_background": "light"
     },
     "output_type": "display_data"
    }
   ],
   "source": [
    "plt.figure(figsize =(12,12))\n",
    "plt.subplot(3,3,1)\n",
    "sns.boxplot(ngo['child_mort'])\n",
    "\n",
    "plt.subplot(3,3,2)\n",
    "sns.boxplot(ngo['exports'])\n",
    "\n",
    "plt.subplot(3,3,3)\n",
    "sns.boxplot(ngo['health'])\n",
    "\n",
    "plt.subplot(3,3,4)\n",
    "sns.boxplot(ngo['imports'])\n",
    "\n",
    "plt.subplot(3,3,5)\n",
    "sns.boxplot(ngo['income'])\n",
    "\n",
    "plt.subplot(3,3,6)\n",
    "sns.boxplot(ngo['inflation'])\n",
    "\n",
    "plt.subplot(3,3,7)\n",
    "sns.boxplot(ngo['life_expec'])\n",
    "\n",
    "plt.subplot(3,3,8)\n",
    "sns.boxplot(ngo['total_fer'])\n",
    "\n",
    "plt.subplot(3,3,9)\n",
    "sns.boxplot(ngo['gdpp'])"
   ]
  },
  {
   "cell_type": "markdown",
   "metadata": {},
   "source": [
    "**_From the above outlier identification we can see that child mortality have less number of outliers hence capping to upper limit value._**"
   ]
  },
  {
   "cell_type": "code",
   "execution_count": 13,
   "metadata": {
    "scrolled": true
   },
   "outputs": [
    {
     "data": {
      "text/plain": [
       "count    167.000000\n",
       "mean      38.270060\n",
       "std       40.328931\n",
       "min        2.600000\n",
       "25%        8.250000\n",
       "50%       19.300000\n",
       "75%       62.100000\n",
       "90%      100.220000\n",
       "95%      116.000000\n",
       "max      208.000000\n",
       "Name: child_mort, dtype: float64"
      ]
     },
     "execution_count": 13,
     "metadata": {},
     "output_type": "execute_result"
    }
   ],
   "source": [
    "ngo.child_mort.describe(percentiles=[0.25,0.5,0.75,0.90,0.95])"
   ]
  },
  {
   "cell_type": "markdown",
   "metadata": {},
   "source": [
    "Correcting the outliers by imputing the 95 percentile value."
   ]
  },
  {
   "cell_type": "code",
   "execution_count": 14,
   "metadata": {},
   "outputs": [],
   "source": [
    "ngo['child_mort'] = np.where(ngo['child_mort'] > 116, 116, ngo['child_mort'])"
   ]
  },
  {
   "cell_type": "code",
   "execution_count": 15,
   "metadata": {
    "scrolled": true
   },
   "outputs": [
    {
     "data": {
      "text/plain": [
       "<matplotlib.axes._subplots.AxesSubplot at 0x1f8ef3d3d88>"
      ]
     },
     "execution_count": 15,
     "metadata": {},
     "output_type": "execute_result"
    },
    {
     "data": {
      "image/png": "[encoded data removed]",
      "text/plain": [
       "<Figure size 432x288 with 1 Axes>"
      ]
     },
     "metadata": {
      "needs_background": "light"
     },
     "output_type": "display_data"
    }
   ],
   "source": [
    "sns.boxplot(ngo['child_mort'])"
   ]
  },
  {
   "cell_type": "markdown",
   "metadata": {},
   "source": [
    "**_As we can observe from the boxplot there are more outliers present in the columns 'exports', 'health','imports', 'income' and 'gdpp' hence we will leave the outliers as it is._**"
   ]
  },
  {
   "cell_type": "markdown",
   "metadata": {},
   "source": [
    "**_As we can observe from the boxplot there are less outliers present in the column 'inflation' hence checking the percentile value of the column._**"
   ]
  },
  {
   "cell_type": "code",
   "execution_count": 16,
   "metadata": {
    "scrolled": true
   },
   "outputs": [
    {
     "data": {
      "text/plain": [
       "count    167.000000\n",
       "mean       7.781832\n",
       "std       10.570704\n",
       "min       -4.210000\n",
       "25%        1.810000\n",
       "50%        5.390000\n",
       "75%       10.750000\n",
       "90%       16.640000\n",
       "95%       20.870000\n",
       "max      104.000000\n",
       "Name: inflation, dtype: float64"
      ]
     },
     "execution_count": 16,
     "metadata": {},
     "output_type": "execute_result"
    }
   ],
   "source": [
    "ngo.inflation.describe(percentiles=[0.25,0.5,0.75,0.90,0.95])"
   ]
  },
  {
   "cell_type": "code",
   "execution_count": 17,
   "metadata": {},
   "outputs": [],
   "source": [
    "ngo['inflation'] = np.where(ngo['inflation'] > 20.87, 20.87, ngo['inflation'])"
   ]
  },
  {
   "cell_type": "code",
   "execution_count": 18,
   "metadata": {},
   "outputs": [
    {
     "data": {
      "text/plain": [
       "<matplotlib.axes._subplots.AxesSubplot at 0x1f8ef0777c8>"
      ]
     },
     "execution_count": 18,
     "metadata": {},
     "output_type": "execute_result"
    },
    {
     "data": {
      "image/png": "[encoded data removed]",
      "text/plain": [
       "<Figure size 432x288 with 1 Axes>"
      ]
     },
     "metadata": {
      "needs_background": "light"
     },
     "output_type": "display_data"
    }
   ],
   "source": [
    "sns.boxplot(ngo['inflation'])"
   ]
  },
  {
   "cell_type": "markdown",
   "metadata": {},
   "source": [
    "**_As we can observe from the boxplot there are outliers present in the column 'life_expec' hence checking the percentile value of the column._**"
   ]
  },
  {
   "cell_type": "code",
   "execution_count": 20,
   "metadata": {
    "scrolled": false
   },
   "outputs": [
    {
     "data": {
      "text/plain": [
       "count    167.000000\n",
       "mean      70.555689\n",
       "std        8.893172\n",
       "min       32.100000\n",
       "25%       65.300000\n",
       "50%       73.100000\n",
       "75%       76.800000\n",
       "90%       80.400000\n",
       "95%       81.400000\n",
       "max       82.800000\n",
       "Name: life_expec, dtype: float64"
      ]
     },
     "execution_count": 20,
     "metadata": {},
     "output_type": "execute_result"
    }
   ],
   "source": [
    "ngo.life_expec.describe(percentiles=[0.25,0.5,0.75,0.90,0.95])"
   ]
  },
  {
   "cell_type": "code",
   "execution_count": 21,
   "metadata": {},
   "outputs": [],
   "source": [
    "ngo['life_expec'] = np.where(ngo['life_expec'] < 73.1, 73.1, ngo['life_expec'])\n",
    "ngo['life_expec'] = np.where(ngo['life_expec'] > 81.40, 81.40, ngo['life_expec'])"
   ]
  },
  {
   "cell_type": "code",
   "execution_count": 22,
   "metadata": {},
   "outputs": [
    {
     "data": {
      "text/plain": [
       "<matplotlib.axes._subplots.AxesSubplot at 0x1f8ee7ff448>"
      ]
     },
     "execution_count": 22,
     "metadata": {},
     "output_type": "execute_result"
    },
    {
     "data": {
      "image/png": "[encoded data removed]",
      "text/plain": [
       "<Figure size 432x288 with 1 Axes>"
      ]
     },
     "metadata": {
      "needs_background": "light"
     },
     "output_type": "display_data"
    }
   ],
   "source": [
    "sns.boxplot(ngo['life_expec'])"
   ]
  },
  {
   "cell_type": "markdown",
   "metadata": {},
   "source": [
    "**_As we can observe from the boxplot there are less outliers present in the column 'total_fer' hence checking the percentile value of the column._**"
   ]
  },
  {
   "cell_type": "code",
   "execution_count": 24,
   "metadata": {
    "scrolled": true
   },
   "outputs": [
    {
     "data": {
      "text/plain": [
       "count    167.000000\n",
       "mean       2.947964\n",
       "std        1.513848\n",
       "min        1.150000\n",
       "25%        1.795000\n",
       "50%        2.410000\n",
       "75%        3.880000\n",
       "90%        5.322000\n",
       "95%        5.861000\n",
       "max        7.490000\n",
       "Name: total_fer, dtype: float64"
      ]
     },
     "execution_count": 24,
     "metadata": {},
     "output_type": "execute_result"
    }
   ],
   "source": [
    "ngo.total_fer.describe(percentiles = [0.25,0.50,0.75,0.90,0.95])"
   ]
  },
  {
   "cell_type": "code",
   "execution_count": 25,
   "metadata": {},
   "outputs": [
    {
     "data": {
      "text/plain": [
       "<matplotlib.axes._subplots.AxesSubplot at 0x1f8ee9584c8>"
      ]
     },
     "execution_count": 25,
     "metadata": {},
     "output_type": "execute_result"
    },
    {
     "data": {
      "image/png": "[encoded data removed]",
      "text/plain": [
       "<Figure size 432x288 with 1 Axes>"
      ]
     },
     "metadata": {
      "needs_background": "light"
     },
     "output_type": "display_data"
    }
   ],
   "source": [
    "ngo['total_fer'] = np.where(ngo['total_fer'] > 5.861, 5.861, ngo['total_fer'])\n",
    "sns.boxplot(ngo['total_fer'])"
   ]
  },
  {
   "cell_type": "code",
   "execution_count": 26,
   "metadata": {
    "scrolled": true
   },
   "outputs": [
    {
     "data": {
      "text/html": [
       "<div>\n",
       "<style scoped>\n",
       "    .dataframe tbody tr th:only-of-type {\n",
       "        vertical-align: middle;\n",
       "    }\n",
       "\n",
       "    .dataframe tbody tr th {\n",
       "        vertical-align: top;\n",
       "    }\n",
       "\n",
       "    .dataframe thead th {\n",
       "        text-align: right;\n",
       "    }\n",
       "</style>\n",
       "<table border=\"1\" class=\"dataframe\">\n",
       "  <thead>\n",
       "    <tr style=\"text-align: right;\">\n",
       "      <th></th>\n",
       "      <th>country</th>\n",
       "      <th>child_mort</th>\n",
       "      <th>exports</th>\n",
       "      <th>health</th>\n",
       "      <th>imports</th>\n",
       "      <th>income</th>\n",
       "      <th>inflation</th>\n",
       "      <th>life_expec</th>\n",
       "      <th>total_fer</th>\n",
       "      <th>gdpp</th>\n",
       "    </tr>\n",
       "  </thead>\n",
       "  <tbody>\n",
       "    <tr>\n",
       "      <td>0</td>\n",
       "      <td>Afghanistan</td>\n",
       "      <td>90.2</td>\n",
       "      <td>55.30</td>\n",
       "      <td>41.9174</td>\n",
       "      <td>248.297</td>\n",
       "      <td>1610</td>\n",
       "      <td>9.44</td>\n",
       "      <td>73.1</td>\n",
       "      <td>5.820</td>\n",
       "      <td>553</td>\n",
       "    </tr>\n",
       "    <tr>\n",
       "      <td>1</td>\n",
       "      <td>Albania</td>\n",
       "      <td>16.6</td>\n",
       "      <td>1145.20</td>\n",
       "      <td>267.8950</td>\n",
       "      <td>1987.740</td>\n",
       "      <td>9930</td>\n",
       "      <td>4.49</td>\n",
       "      <td>76.3</td>\n",
       "      <td>1.650</td>\n",
       "      <td>4090</td>\n",
       "    </tr>\n",
       "    <tr>\n",
       "      <td>2</td>\n",
       "      <td>Algeria</td>\n",
       "      <td>27.3</td>\n",
       "      <td>1712.64</td>\n",
       "      <td>185.9820</td>\n",
       "      <td>1400.440</td>\n",
       "      <td>12900</td>\n",
       "      <td>16.10</td>\n",
       "      <td>76.5</td>\n",
       "      <td>2.890</td>\n",
       "      <td>4460</td>\n",
       "    </tr>\n",
       "    <tr>\n",
       "      <td>3</td>\n",
       "      <td>Angola</td>\n",
       "      <td>116.0</td>\n",
       "      <td>2199.19</td>\n",
       "      <td>100.6050</td>\n",
       "      <td>1514.370</td>\n",
       "      <td>5900</td>\n",
       "      <td>20.87</td>\n",
       "      <td>73.1</td>\n",
       "      <td>5.861</td>\n",
       "      <td>3530</td>\n",
       "    </tr>\n",
       "    <tr>\n",
       "      <td>4</td>\n",
       "      <td>Antigua and Barbuda</td>\n",
       "      <td>10.3</td>\n",
       "      <td>5551.00</td>\n",
       "      <td>735.6600</td>\n",
       "      <td>7185.800</td>\n",
       "      <td>19100</td>\n",
       "      <td>1.44</td>\n",
       "      <td>76.8</td>\n",
       "      <td>2.130</td>\n",
       "      <td>12200</td>\n",
       "    </tr>\n",
       "  </tbody>\n",
       "</table>\n",
       "</div>"
      ],
      "text/plain": [
       "               country  child_mort  exports    health   imports  income  \\\n",
       "0          Afghanistan        90.2    55.30   41.9174   248.297    1610   \n",
       "1              Albania        16.6  1145.20  267.8950  1987.740    9930   \n",
       "2              Algeria        27.3  1712.64  185.9820  1400.440   12900   \n",
       "3               Angola       116.0  2199.19  100.6050  1514.370    5900   \n",
       "4  Antigua and Barbuda        10.3  5551.00  735.6600  7185.800   19100   \n",
       "\n",
       "   inflation  life_expec  total_fer   gdpp  \n",
       "0       9.44        73.1      5.820    553  \n",
       "1       4.49        76.3      1.650   4090  \n",
       "2      16.10        76.5      2.890   4460  \n",
       "3      20.87        73.1      5.861   3530  \n",
       "4       1.44        76.8      2.130  12200  "
      ]
     },
     "execution_count": 26,
     "metadata": {},
     "output_type": "execute_result"
    }
   ],
   "source": [
    "ngo.head()"
   ]
  },
  {
   "cell_type": "markdown",
   "metadata": {},
   "source": [
    "## Step 3 - Preparing for modelling."
   ]
  },
  {
   "cell_type": "code",
   "execution_count": 27,
   "metadata": {},
   "outputs": [
    {
     "data": {
      "text/html": [
       "<div>\n",
       "<style scoped>\n",
       "    .dataframe tbody tr th:only-of-type {\n",
       "        vertical-align: middle;\n",
       "    }\n",
       "\n",
       "    .dataframe tbody tr th {\n",
       "        vertical-align: top;\n",
       "    }\n",
       "\n",
       "    .dataframe thead th {\n",
       "        text-align: right;\n",
       "    }\n",
       "</style>\n",
       "<table border=\"1\" class=\"dataframe\">\n",
       "  <thead>\n",
       "    <tr style=\"text-align: right;\">\n",
       "      <th></th>\n",
       "      <th>gdpp</th>\n",
       "      <th>child_mort</th>\n",
       "      <th>income</th>\n",
       "      <th>exports</th>\n",
       "      <th>health</th>\n",
       "      <th>imports</th>\n",
       "      <th>inflation</th>\n",
       "      <th>life_expec</th>\n",
       "      <th>total_fer</th>\n",
       "    </tr>\n",
       "  </thead>\n",
       "  <tbody>\n",
       "    <tr>\n",
       "      <td>0</td>\n",
       "      <td>553</td>\n",
       "      <td>90.2</td>\n",
       "      <td>1610</td>\n",
       "      <td>55.30</td>\n",
       "      <td>41.9174</td>\n",
       "      <td>248.297</td>\n",
       "      <td>9.44</td>\n",
       "      <td>73.1</td>\n",
       "      <td>5.820</td>\n",
       "    </tr>\n",
       "    <tr>\n",
       "      <td>1</td>\n",
       "      <td>4090</td>\n",
       "      <td>16.6</td>\n",
       "      <td>9930</td>\n",
       "      <td>1145.20</td>\n",
       "      <td>267.8950</td>\n",
       "      <td>1987.740</td>\n",
       "      <td>4.49</td>\n",
       "      <td>76.3</td>\n",
       "      <td>1.650</td>\n",
       "    </tr>\n",
       "    <tr>\n",
       "      <td>2</td>\n",
       "      <td>4460</td>\n",
       "      <td>27.3</td>\n",
       "      <td>12900</td>\n",
       "      <td>1712.64</td>\n",
       "      <td>185.9820</td>\n",
       "      <td>1400.440</td>\n",
       "      <td>16.10</td>\n",
       "      <td>76.5</td>\n",
       "      <td>2.890</td>\n",
       "    </tr>\n",
       "    <tr>\n",
       "      <td>3</td>\n",
       "      <td>3530</td>\n",
       "      <td>116.0</td>\n",
       "      <td>5900</td>\n",
       "      <td>2199.19</td>\n",
       "      <td>100.6050</td>\n",
       "      <td>1514.370</td>\n",
       "      <td>20.87</td>\n",
       "      <td>73.1</td>\n",
       "      <td>5.861</td>\n",
       "    </tr>\n",
       "    <tr>\n",
       "      <td>4</td>\n",
       "      <td>12200</td>\n",
       "      <td>10.3</td>\n",
       "      <td>19100</td>\n",
       "      <td>5551.00</td>\n",
       "      <td>735.6600</td>\n",
       "      <td>7185.800</td>\n",
       "      <td>1.44</td>\n",
       "      <td>76.8</td>\n",
       "      <td>2.130</td>\n",
       "    </tr>\n",
       "  </tbody>\n",
       "</table>\n",
       "</div>"
      ],
      "text/plain": [
       "    gdpp  child_mort  income  exports    health   imports  inflation  \\\n",
       "0    553        90.2    1610    55.30   41.9174   248.297       9.44   \n",
       "1   4090        16.6    9930  1145.20  267.8950  1987.740       4.49   \n",
       "2   4460        27.3   12900  1712.64  185.9820  1400.440      16.10   \n",
       "3   3530       116.0    5900  2199.19  100.6050  1514.370      20.87   \n",
       "4  12200        10.3   19100  5551.00  735.6600  7185.800       1.44   \n",
       "\n",
       "   life_expec  total_fer  \n",
       "0        73.1      5.820  \n",
       "1        76.3      1.650  \n",
       "2        76.5      2.890  \n",
       "3        73.1      5.861  \n",
       "4        76.8      2.130  "
      ]
     },
     "execution_count": 27,
     "metadata": {},
     "output_type": "execute_result"
    }
   ],
   "source": [
    "new = ngo[['gdpp','child_mort','income','exports','health','imports','inflation','life_expec','total_fer']]\n",
    "new.head()"
   ]
  },
  {
   "cell_type": "markdown",
   "metadata": {},
   "source": [
    "### Rescaling"
   ]
  },
  {
   "cell_type": "markdown",
   "metadata": {},
   "source": [
    "**_Variable transformation is done to normalize the data set so that the data used in the model are all in one unit, hence we have used Standard Scaler for variable transformation._**"
   ]
  },
  {
   "cell_type": "code",
   "execution_count": 28,
   "metadata": {},
   "outputs": [],
   "source": [
    "scaler = StandardScaler()\n",
    "\n",
    "# fit_transform\n",
    "scaledf = scaler.fit_transform(new)"
   ]
  },
  {
   "cell_type": "code",
   "execution_count": 30,
   "metadata": {
    "scrolled": false
   },
   "outputs": [
    {
     "data": {
      "text/html": [
       "<div>\n",
       "<style scoped>\n",
       "    .dataframe tbody tr th:only-of-type {\n",
       "        vertical-align: middle;\n",
       "    }\n",
       "\n",
       "    .dataframe tbody tr th {\n",
       "        vertical-align: top;\n",
       "    }\n",
       "\n",
       "    .dataframe thead th {\n",
       "        text-align: right;\n",
       "    }\n",
       "</style>\n",
       "<table border=\"1\" class=\"dataframe\">\n",
       "  <thead>\n",
       "    <tr style=\"text-align: right;\">\n",
       "      <th></th>\n",
       "      <th>gdpp</th>\n",
       "      <th>child_mort</th>\n",
       "      <th>income</th>\n",
       "      <th>exports</th>\n",
       "      <th>health</th>\n",
       "      <th>income</th>\n",
       "      <th>inflation</th>\n",
       "      <th>life_expec</th>\n",
       "      <th>total_fer</th>\n",
       "    </tr>\n",
       "  </thead>\n",
       "  <tbody>\n",
       "    <tr>\n",
       "      <td>0</td>\n",
       "      <td>-0.679180</td>\n",
       "      <td>1.479341</td>\n",
       "      <td>-0.808245</td>\n",
       "      <td>-0.411011</td>\n",
       "      <td>-0.565040</td>\n",
       "      <td>-0.432276</td>\n",
       "      <td>0.394438</td>\n",
       "      <td>-0.754360</td>\n",
       "      <td>2.016421</td>\n",
       "    </tr>\n",
       "    <tr>\n",
       "      <td>1</td>\n",
       "      <td>-0.485623</td>\n",
       "      <td>-0.559029</td>\n",
       "      <td>-0.375369</td>\n",
       "      <td>-0.350191</td>\n",
       "      <td>-0.439218</td>\n",
       "      <td>-0.313677</td>\n",
       "      <td>-0.383226</td>\n",
       "      <td>0.337246</td>\n",
       "      <td>-0.880535</td>\n",
       "    </tr>\n",
       "    <tr>\n",
       "      <td>2</td>\n",
       "      <td>-0.465376</td>\n",
       "      <td>-0.262690</td>\n",
       "      <td>-0.220844</td>\n",
       "      <td>-0.318526</td>\n",
       "      <td>-0.484826</td>\n",
       "      <td>-0.353720</td>\n",
       "      <td>1.440750</td>\n",
       "      <td>0.405471</td>\n",
       "      <td>-0.019090</td>\n",
       "    </tr>\n",
       "    <tr>\n",
       "      <td>3</td>\n",
       "      <td>-0.516268</td>\n",
       "      <td>2.193878</td>\n",
       "      <td>-0.585043</td>\n",
       "      <td>-0.291375</td>\n",
       "      <td>-0.532363</td>\n",
       "      <td>-0.345953</td>\n",
       "      <td>2.190136</td>\n",
       "      <td>-0.754360</td>\n",
       "      <td>2.044904</td>\n",
       "    </tr>\n",
       "    <tr>\n",
       "      <td>4</td>\n",
       "      <td>-0.041817</td>\n",
       "      <td>-0.733509</td>\n",
       "      <td>0.101732</td>\n",
       "      <td>-0.104331</td>\n",
       "      <td>-0.178771</td>\n",
       "      <td>0.040735</td>\n",
       "      <td>-0.862393</td>\n",
       "      <td>0.507809</td>\n",
       "      <td>-0.547072</td>\n",
       "    </tr>\n",
       "  </tbody>\n",
       "</table>\n",
       "</div>"
      ],
      "text/plain": [
       "       gdpp  child_mort    income   exports    health    income  inflation  \\\n",
       "0 -0.679180    1.479341 -0.808245 -0.411011 -0.565040 -0.432276   0.394438   \n",
       "1 -0.485623   -0.559029 -0.375369 -0.350191 -0.439218 -0.313677  -0.383226   \n",
       "2 -0.465376   -0.262690 -0.220844 -0.318526 -0.484826 -0.353720   1.440750   \n",
       "3 -0.516268    2.193878 -0.585043 -0.291375 -0.532363 -0.345953   2.190136   \n",
       "4 -0.041817   -0.733509  0.101732 -0.104331 -0.178771  0.040735  -0.862393   \n",
       "\n",
       "   life_expec  total_fer  \n",
       "0   -0.754360   2.016421  \n",
       "1    0.337246  -0.880535  \n",
       "2    0.405471  -0.019090  \n",
       "3   -0.754360   2.044904  \n",
       "4    0.507809  -0.547072  "
      ]
     },
     "execution_count": 30,
     "metadata": {},
     "output_type": "execute_result"
    }
   ],
   "source": [
    "scaledf = pd.DataFrame(scaledf)\n",
    "scaledf.columns = ['gdpp','child_mort','income','exports','health','income','inflation','life_expec','total_fer']\n",
    "scaledf.head()"
   ]
  },
  {
   "cell_type": "markdown",
   "metadata": {},
   "source": [
    "### Hopkins Score."
   ]
  },
  {
   "cell_type": "code",
   "execution_count": 31,
   "metadata": {},
   "outputs": [],
   "source": [
    "from sklearn.neighbors import NearestNeighbors\n",
    "from random import sample\n",
    "from numpy.random import uniform\n",
    "import numpy as np\n",
    "from math import isnan\n",
    " \n",
    "def hopkins(X):\n",
    "    d = X.shape[1]\n",
    "    #d = len(vars) # columns\n",
    "    n = len(X) # rows\n",
    "    m = int(0.1 * n) \n",
    "    nbrs = NearestNeighbors(n_neighbors=1).fit(X.values)\n",
    " \n",
    "    rand_X = sample(range(0, n, 1), m)\n",
    " \n",
    "    ujd = []\n",
    "    wjd = []\n",
    "    for j in range(0, m):\n",
    "        u_dist, _ = nbrs.kneighbors(uniform(np.amin(X,axis=0),np.amax(X,axis=0),d).reshape(1, -1), 2, return_distance=True)\n",
    "        ujd.append(u_dist[0][1])\n",
    "        w_dist, _ = nbrs.kneighbors(X.iloc[rand_X[j]].values.reshape(1, -1), 2, return_distance=True)\n",
    "        wjd.append(w_dist[0][1])\n",
    " \n",
    "    H = sum(ujd) / (sum(ujd) + sum(wjd))\n",
    "    if isnan(H):\n",
    "        print(ujd, wjd)\n",
    "        H = 0\n",
    " \n",
    "    return H"
   ]
  },
  {
   "cell_type": "code",
   "execution_count": 31,
   "metadata": {
    "scrolled": true
   },
   "outputs": [
    {
     "data": {
      "text/plain": [
       "0.9064374565189199"
      ]
     },
     "execution_count": 31,
     "metadata": {},
     "output_type": "execute_result"
    }
   ],
   "source": [
    "# #Using the Hopkins Statistic function by passing the above dataframe as a parameter.\n",
    "hopkins(scaledf)"
   ]
  },
  {
   "cell_type": "markdown",
   "metadata": {},
   "source": [
    "**_As hopkins score indicates the cluster tendency we know that:_**\n",
    "1. If the value is between {0.01, ...,0.3}, the data is regularly spaced.\n",
    "2. If the value is around 0.5, it is random.\n",
    "3. If the value is between {0.7, ..., 0.99}, it has a high tendency to cluster.\n",
    "\n",
    "**_Since the value of hopkins score is 0.9064 it indicates that the model has a high tendency to cluster._**"
   ]
  },
  {
   "cell_type": "markdown",
   "metadata": {},
   "source": [
    "## Step 4 - Modelling"
   ]
  },
  {
   "cell_type": "markdown",
   "metadata": {},
   "source": [
    "### Kmeans Clustering.\n",
    "**_Kmeans algorithm identifies K number of centroids and then allocates every data point to the nearest cluster while keeping the centroid as small as possible, the means in Kmeans refers to the averaging the data._**\n",
    "**_The steps involved in Kmeans clustering are:_**\n",
    "1. Asssignment step\n",
    "2. Optimization step"
   ]
  },
  {
   "cell_type": "code",
   "execution_count": 32,
   "metadata": {},
   "outputs": [],
   "source": [
    "# K means with some arbitrary K.\n",
    "kmeans = KMeans(n_clusters = 4, max_iter = 50)"
   ]
  },
  {
   "cell_type": "code",
   "execution_count": 33,
   "metadata": {},
   "outputs": [
    {
     "data": {
      "text/plain": [
       "KMeans(algorithm='auto', copy_x=True, init='k-means++', max_iter=50,\n",
       "       n_clusters=4, n_init=10, n_jobs=None, precompute_distances='auto',\n",
       "       random_state=None, tol=0.0001, verbose=0)"
      ]
     },
     "execution_count": 33,
     "metadata": {},
     "output_type": "execute_result"
    }
   ],
   "source": [
    "kmeans.fit(scaledf)"
   ]
  },
  {
   "cell_type": "code",
   "execution_count": 34,
   "metadata": {},
   "outputs": [
    {
     "data": {
      "text/plain": [
       "167"
      ]
     },
     "execution_count": 34,
     "metadata": {},
     "output_type": "execute_result"
    }
   ],
   "source": [
    "len(kmeans.labels_)"
   ]
  },
  {
   "cell_type": "markdown",
   "metadata": {},
   "source": [
    "### Finding optimal number of clusters."
   ]
  },
  {
   "cell_type": "markdown",
   "metadata": {},
   "source": [
    "#### Elbow Curve Method - This method is that it plots the various values of cost with changing k. As the value of K increases, there will be fewer elements in the cluster. So average distortion will decrease. The lesser number of elements means closer to the centroid. So, the point where this distortion declines the most is the elbow point."
   ]
  },
  {
   "cell_type": "code",
   "execution_count": 35,
   "metadata": {},
   "outputs": [
    {
     "data": {
      "text/plain": [
       "[<matplotlib.lines.Line2D at 0x1f8eea88388>]"
      ]
     },
     "execution_count": 35,
     "metadata": {},
     "output_type": "execute_result"
    },
    {
     "data": {
      "image/png": "[encoded data removed]",
      "text/plain": [
       "<Figure size 432x288 with 1 Axes>"
      ]
     },
     "metadata": {
      "needs_background": "light"
     },
     "output_type": "display_data"
    }
   ],
   "source": [
    "# defining the range.\n",
    "ssd = []\n",
    "range_c = [2,3,4,5,6,7,8]\n",
    "for num in range_c:\n",
    "    kmeans = KMeans(n_clusters = num, max_iter = 50)\n",
    "    kmeans.fit(scaledf)\n",
    "    \n",
    "    ssd.append(kmeans.inertia_)\n",
    "plt.plot(ssd)"
   ]
  },
  {
   "cell_type": "markdown",
   "metadata": {},
   "source": [
    "**_As we can observe from the above plot that it comes out as an elbow curve and there is a good infliction in the curve it indicates that the underlying model fits good at this point, and as per the curve the optimal number of clusters is 2 but we choose 3 clusters as it will help in better division of the countries._**"
   ]
  },
  {
   "cell_type": "markdown",
   "metadata": {},
   "source": [
    "#### Silhouette analysis."
   ]
  },
  {
   "cell_type": "code",
   "execution_count": 36,
   "metadata": {},
   "outputs": [
    {
     "name": "stdout",
     "output_type": "stream",
     "text": [
      "For n_clusters = 2, the ss is 0.5017760422707541\n",
      "For n_clusters = 3, the ss is 0.3875206483017557\n",
      "For n_clusters = 4, the ss is 0.3972172590639472\n",
      "For n_clusters = 5, the ss is 0.30510610688485645\n",
      "For n_clusters = 6, the ss is 0.3096335879369329\n",
      "For n_clusters = 7, the ss is 0.319104019833254\n",
      "For n_clusters = 8, the ss is 0.31476769446903646\n"
     ]
    }
   ],
   "source": [
    "rangec = [2,3,4,5,6,7,8]\n",
    "for num in rangec:\n",
    "    kmeans = KMeans(n_clusters = num, max_iter = 50)\n",
    "    kmeans.fit(scaledf)\n",
    "    cluster_labels = kmeans.labels_\n",
    "    ss = silhouette_score(scaledf, cluster_labels)\n",
    "    print('For n_clusters = {0}, the ss is {1}'.format (num, ss))"
   ]
  },
  {
   "cell_type": "markdown",
   "metadata": {},
   "source": [
    "**_The silhouette analysis is done to display the the measure of how close each point in one cluster is to points in neighbouring clusters and therefore it helps us to determine the optimal number of clusters in a model._**\n",
    "**_From the above silhoutte analysis we can make out that the optimal cluster number should be 3 as the max value of silhoutte score is 0.501 which indicates that the clusters to be taken should be 2, but preparing a model with 3 clusters will be the correct choice since we can assess the countries based on developed, developing and under developed, hence the optimal k value should be 3._**"
   ]
  },
  {
   "cell_type": "markdown",
   "metadata": {},
   "source": [
    "### Final model with k = 3."
   ]
  },
  {
   "cell_type": "code",
   "execution_count": 37,
   "metadata": {},
   "outputs": [
    {
     "data": {
      "text/plain": [
       "KMeans(algorithm='auto', copy_x=True, init='k-means++', max_iter=5,\n",
       "       n_clusters=3, n_init=10, n_jobs=None, precompute_distances='auto',\n",
       "       random_state=None, tol=0.0001, verbose=0)"
      ]
     },
     "execution_count": 37,
     "metadata": {},
     "output_type": "execute_result"
    }
   ],
   "source": [
    "kmeans = KMeans(n_clusters = 3, max_iter = 5)\n",
    "kmeans.fit(scaledf)"
   ]
  },
  {
   "cell_type": "code",
   "execution_count": 38,
   "metadata": {},
   "outputs": [
    {
     "data": {
      "text/plain": [
       "array([0, 2, 2, 0, 2, 2, 2, 1, 1, 2, 2, 2, 2, 2, 2, 1, 2, 0, 2, 2, 2, 2,\n",
       "       2, 1, 2, 0, 0, 2, 0, 1, 2, 0, 0, 2, 2, 2, 0, 0, 0, 2, 0, 2, 1, 2,\n",
       "       1, 2, 2, 2, 2, 0, 0, 2, 2, 1, 1, 0, 0, 2, 1, 0, 1, 2, 2, 0, 0, 2,\n",
       "       0, 2, 1, 2, 2, 2, 0, 1, 1, 1, 2, 1, 2, 2, 0, 0, 1, 2, 0, 2, 2, 0,\n",
       "       0, 2, 2, 1, 2, 0, 0, 2, 2, 0, 1, 0, 2, 2, 2, 2, 2, 2, 0, 2, 2, 2,\n",
       "       1, 1, 0, 0, 1, 2, 0, 2, 2, 2, 2, 2, 1, 1, 2, 2, 0, 2, 2, 0, 2, 2,\n",
       "       0, 1, 2, 1, 2, 2, 1, 1, 2, 2, 0, 2, 1, 1, 0, 0, 2, 0, 0, 2, 2, 2,\n",
       "       2, 0, 2, 1, 1, 1, 2, 2, 2, 2, 2, 0, 0])"
      ]
     },
     "execution_count": 38,
     "metadata": {},
     "output_type": "execute_result"
    }
   ],
   "source": [
    "kmeans.labels_"
   ]
  },
  {
   "cell_type": "code",
   "execution_count": 39,
   "metadata": {
    "scrolled": false
   },
   "outputs": [
    {
     "data": {
      "text/html": [
       "<div>\n",
       "<style scoped>\n",
       "    .dataframe tbody tr th:only-of-type {\n",
       "        vertical-align: middle;\n",
       "    }\n",
       "\n",
       "    .dataframe tbody tr th {\n",
       "        vertical-align: top;\n",
       "    }\n",
       "\n",
       "    .dataframe thead th {\n",
       "        text-align: right;\n",
       "    }\n",
       "</style>\n",
       "<table border=\"1\" class=\"dataframe\">\n",
       "  <thead>\n",
       "    <tr style=\"text-align: right;\">\n",
       "      <th></th>\n",
       "      <th>gdpp</th>\n",
       "      <th>child_mort</th>\n",
       "      <th>income</th>\n",
       "      <th>exports</th>\n",
       "      <th>health</th>\n",
       "      <th>imports</th>\n",
       "      <th>inflation</th>\n",
       "      <th>life_expec</th>\n",
       "      <th>total_fer</th>\n",
       "      <th>cluster_id</th>\n",
       "    </tr>\n",
       "  </thead>\n",
       "  <tbody>\n",
       "    <tr>\n",
       "      <td>0</td>\n",
       "      <td>553</td>\n",
       "      <td>90.2</td>\n",
       "      <td>1610</td>\n",
       "      <td>55.30</td>\n",
       "      <td>41.9174</td>\n",
       "      <td>248.297</td>\n",
       "      <td>9.44</td>\n",
       "      <td>73.1</td>\n",
       "      <td>5.820</td>\n",
       "      <td>0</td>\n",
       "    </tr>\n",
       "    <tr>\n",
       "      <td>1</td>\n",
       "      <td>4090</td>\n",
       "      <td>16.6</td>\n",
       "      <td>9930</td>\n",
       "      <td>1145.20</td>\n",
       "      <td>267.8950</td>\n",
       "      <td>1987.740</td>\n",
       "      <td>4.49</td>\n",
       "      <td>76.3</td>\n",
       "      <td>1.650</td>\n",
       "      <td>2</td>\n",
       "    </tr>\n",
       "    <tr>\n",
       "      <td>2</td>\n",
       "      <td>4460</td>\n",
       "      <td>27.3</td>\n",
       "      <td>12900</td>\n",
       "      <td>1712.64</td>\n",
       "      <td>185.9820</td>\n",
       "      <td>1400.440</td>\n",
       "      <td>16.10</td>\n",
       "      <td>76.5</td>\n",
       "      <td>2.890</td>\n",
       "      <td>2</td>\n",
       "    </tr>\n",
       "    <tr>\n",
       "      <td>3</td>\n",
       "      <td>3530</td>\n",
       "      <td>116.0</td>\n",
       "      <td>5900</td>\n",
       "      <td>2199.19</td>\n",
       "      <td>100.6050</td>\n",
       "      <td>1514.370</td>\n",
       "      <td>20.87</td>\n",
       "      <td>73.1</td>\n",
       "      <td>5.861</td>\n",
       "      <td>0</td>\n",
       "    </tr>\n",
       "    <tr>\n",
       "      <td>4</td>\n",
       "      <td>12200</td>\n",
       "      <td>10.3</td>\n",
       "      <td>19100</td>\n",
       "      <td>5551.00</td>\n",
       "      <td>735.6600</td>\n",
       "      <td>7185.800</td>\n",
       "      <td>1.44</td>\n",
       "      <td>76.8</td>\n",
       "      <td>2.130</td>\n",
       "      <td>2</td>\n",
       "    </tr>\n",
       "  </tbody>\n",
       "</table>\n",
       "</div>"
      ],
      "text/plain": [
       "    gdpp  child_mort  income  exports    health   imports  inflation  \\\n",
       "0    553        90.2    1610    55.30   41.9174   248.297       9.44   \n",
       "1   4090        16.6    9930  1145.20  267.8950  1987.740       4.49   \n",
       "2   4460        27.3   12900  1712.64  185.9820  1400.440      16.10   \n",
       "3   3530       116.0    5900  2199.19  100.6050  1514.370      20.87   \n",
       "4  12200        10.3   19100  5551.00  735.6600  7185.800       1.44   \n",
       "\n",
       "   life_expec  total_fer  cluster_id  \n",
       "0        73.1      5.820           0  \n",
       "1        76.3      1.650           2  \n",
       "2        76.5      2.890           2  \n",
       "3        73.1      5.861           0  \n",
       "4        76.8      2.130           2  "
      ]
     },
     "execution_count": 39,
     "metadata": {},
     "output_type": "execute_result"
    }
   ],
   "source": [
    "# assigning the label.\n",
    "new['cluster_id'] = kmeans.labels_\n",
    "new.head()"
   ]
  },
  {
   "cell_type": "code",
   "execution_count": 73,
   "metadata": {},
   "outputs": [
    {
     "data": {
      "text/plain": [
       "2    89\n",
       "0    45\n",
       "1    33\n",
       "Name: cluster_id, dtype: int64"
      ]
     },
     "execution_count": 73,
     "metadata": {},
     "output_type": "execute_result"
    }
   ],
   "source": [
    "new['cluster_id'].value_counts()"
   ]
  },
  {
   "cell_type": "code",
   "execution_count": 40,
   "metadata": {},
   "outputs": [
    {
     "data": {
      "text/html": [
       "<div>\n",
       "<style scoped>\n",
       "    .dataframe tbody tr th:only-of-type {\n",
       "        vertical-align: middle;\n",
       "    }\n",
       "\n",
       "    .dataframe tbody tr th {\n",
       "        vertical-align: top;\n",
       "    }\n",
       "\n",
       "    .dataframe thead th {\n",
       "        text-align: right;\n",
       "    }\n",
       "</style>\n",
       "<table border=\"1\" class=\"dataframe\">\n",
       "  <thead>\n",
       "    <tr style=\"text-align: right;\">\n",
       "      <th></th>\n",
       "      <th>country</th>\n",
       "    </tr>\n",
       "  </thead>\n",
       "  <tbody>\n",
       "    <tr>\n",
       "      <td>0</td>\n",
       "      <td>Afghanistan</td>\n",
       "    </tr>\n",
       "    <tr>\n",
       "      <td>1</td>\n",
       "      <td>Albania</td>\n",
       "    </tr>\n",
       "    <tr>\n",
       "      <td>2</td>\n",
       "      <td>Algeria</td>\n",
       "    </tr>\n",
       "    <tr>\n",
       "      <td>3</td>\n",
       "      <td>Angola</td>\n",
       "    </tr>\n",
       "    <tr>\n",
       "      <td>4</td>\n",
       "      <td>Antigua and Barbuda</td>\n",
       "    </tr>\n",
       "  </tbody>\n",
       "</table>\n",
       "</div>"
      ],
      "text/plain": [
       "               country\n",
       "0          Afghanistan\n",
       "1              Albania\n",
       "2              Algeria\n",
       "3               Angola\n",
       "4  Antigua and Barbuda"
      ]
     },
     "execution_count": 40,
     "metadata": {},
     "output_type": "execute_result"
    }
   ],
   "source": [
    "country = ngo[['country']]\n",
    "country.head()"
   ]
  },
  {
   "cell_type": "code",
   "execution_count": 41,
   "metadata": {},
   "outputs": [
    {
     "data": {
      "text/html": [
       "<div>\n",
       "<style scoped>\n",
       "    .dataframe tbody tr th:only-of-type {\n",
       "        vertical-align: middle;\n",
       "    }\n",
       "\n",
       "    .dataframe tbody tr th {\n",
       "        vertical-align: top;\n",
       "    }\n",
       "\n",
       "    .dataframe thead th {\n",
       "        text-align: right;\n",
       "    }\n",
       "</style>\n",
       "<table border=\"1\" class=\"dataframe\">\n",
       "  <thead>\n",
       "    <tr style=\"text-align: right;\">\n",
       "      <th></th>\n",
       "      <th>country</th>\n",
       "      <th>gdpp</th>\n",
       "      <th>child_mort</th>\n",
       "      <th>income</th>\n",
       "      <th>exports</th>\n",
       "      <th>health</th>\n",
       "      <th>imports</th>\n",
       "      <th>inflation</th>\n",
       "      <th>life_expec</th>\n",
       "      <th>total_fer</th>\n",
       "      <th>cluster_id</th>\n",
       "    </tr>\n",
       "  </thead>\n",
       "  <tbody>\n",
       "    <tr>\n",
       "      <td>0</td>\n",
       "      <td>Afghanistan</td>\n",
       "      <td>553</td>\n",
       "      <td>90.2</td>\n",
       "      <td>1610</td>\n",
       "      <td>55.30</td>\n",
       "      <td>41.9174</td>\n",
       "      <td>248.297</td>\n",
       "      <td>9.44</td>\n",
       "      <td>73.1</td>\n",
       "      <td>5.820</td>\n",
       "      <td>0</td>\n",
       "    </tr>\n",
       "    <tr>\n",
       "      <td>1</td>\n",
       "      <td>Albania</td>\n",
       "      <td>4090</td>\n",
       "      <td>16.6</td>\n",
       "      <td>9930</td>\n",
       "      <td>1145.20</td>\n",
       "      <td>267.8950</td>\n",
       "      <td>1987.740</td>\n",
       "      <td>4.49</td>\n",
       "      <td>76.3</td>\n",
       "      <td>1.650</td>\n",
       "      <td>2</td>\n",
       "    </tr>\n",
       "    <tr>\n",
       "      <td>2</td>\n",
       "      <td>Algeria</td>\n",
       "      <td>4460</td>\n",
       "      <td>27.3</td>\n",
       "      <td>12900</td>\n",
       "      <td>1712.64</td>\n",
       "      <td>185.9820</td>\n",
       "      <td>1400.440</td>\n",
       "      <td>16.10</td>\n",
       "      <td>76.5</td>\n",
       "      <td>2.890</td>\n",
       "      <td>2</td>\n",
       "    </tr>\n",
       "    <tr>\n",
       "      <td>3</td>\n",
       "      <td>Angola</td>\n",
       "      <td>3530</td>\n",
       "      <td>116.0</td>\n",
       "      <td>5900</td>\n",
       "      <td>2199.19</td>\n",
       "      <td>100.6050</td>\n",
       "      <td>1514.370</td>\n",
       "      <td>20.87</td>\n",
       "      <td>73.1</td>\n",
       "      <td>5.861</td>\n",
       "      <td>0</td>\n",
       "    </tr>\n",
       "    <tr>\n",
       "      <td>4</td>\n",
       "      <td>Antigua and Barbuda</td>\n",
       "      <td>12200</td>\n",
       "      <td>10.3</td>\n",
       "      <td>19100</td>\n",
       "      <td>5551.00</td>\n",
       "      <td>735.6600</td>\n",
       "      <td>7185.800</td>\n",
       "      <td>1.44</td>\n",
       "      <td>76.8</td>\n",
       "      <td>2.130</td>\n",
       "      <td>2</td>\n",
       "    </tr>\n",
       "  </tbody>\n",
       "</table>\n",
       "</div>"
      ],
      "text/plain": [
       "               country   gdpp  child_mort  income  exports    health  \\\n",
       "0          Afghanistan    553        90.2    1610    55.30   41.9174   \n",
       "1              Albania   4090        16.6    9930  1145.20  267.8950   \n",
       "2              Algeria   4460        27.3   12900  1712.64  185.9820   \n",
       "3               Angola   3530       116.0    5900  2199.19  100.6050   \n",
       "4  Antigua and Barbuda  12200        10.3   19100  5551.00  735.6600   \n",
       "\n",
       "    imports  inflation  life_expec  total_fer  cluster_id  \n",
       "0   248.297       9.44        73.1      5.820           0  \n",
       "1  1987.740       4.49        76.3      1.650           2  \n",
       "2  1400.440      16.10        76.5      2.890           2  \n",
       "3  1514.370      20.87        73.1      5.861           0  \n",
       "4  7185.800       1.44        76.8      2.130           2  "
      ]
     },
     "execution_count": 41,
     "metadata": {},
     "output_type": "execute_result"
    }
   ],
   "source": [
    "new1 = pd.concat([country,new], axis = 1)\n",
    "new1.head()"
   ]
  },
  {
   "cell_type": "code",
   "execution_count": 42,
   "metadata": {},
   "outputs": [
    {
     "data": {
      "text/plain": [
       "Text(0.5, 1.0, 'Clusters presenting GDP per capita')"
      ]
     },
     "execution_count": 42,
     "metadata": {},
     "output_type": "execute_result"
    },
    {
     "data": {
      "image/png": "[encoded data removed]",
      "text/plain": [
       "<Figure size 432x288 with 1 Axes>"
      ]
     },
     "metadata": {
      "needs_background": "light"
     },
     "output_type": "display_data"
    }
   ],
   "source": [
    "sns.boxplot(x = 'cluster_id',y = 'gdpp', data = new1, palette = 'inferno')\n",
    "plt.xlabel('Clusters')\n",
    "plt.ylabel('GDP per capita')\n",
    "plt.title('Clusters presenting GDP per capita')"
   ]
  },
  {
   "cell_type": "markdown",
   "metadata": {},
   "source": [
    "**_As we can observe from the above plot that cluster 1 represents the countries with higher GDP per capita and can be considered as the cluster of developed countries and cluster 0 represents the countries with very low GDP per capita which can be considered as the cluster of under-developed countries, and the cluster 2 can be considered as developing countries hence the countries falling under cluster 0 needs to aid._**"
   ]
  },
  {
   "cell_type": "code",
   "execution_count": 43,
   "metadata": {},
   "outputs": [
    {
     "data": {
      "text/plain": [
       "Text(0.5, 1.0, 'Clusters presenting Child Mortality Rate')"
      ]
     },
     "execution_count": 43,
     "metadata": {},
     "output_type": "execute_result"
    },
    {
     "data": {
      "image/png": "[encoded data removed]",
      "text/plain": [
       "<Figure size 432x288 with 1 Axes>"
      ]
     },
     "metadata": {
      "needs_background": "light"
     },
     "output_type": "display_data"
    }
   ],
   "source": [
    "sns.boxplot(x = 'cluster_id', y = 'child_mort', data = new1, palette = 'inferno')\n",
    "plt.xlabel('Clusters')\n",
    "plt.ylabel('Child Mortality Rate')\n",
    "plt.title('Clusters presenting Child Mortality Rate')"
   ]
  },
  {
   "cell_type": "markdown",
   "metadata": {},
   "source": [
    "**_From the above plot is can be observed that the child mortality rate in cluster 1 is least which indicates that they have the amenities to help the citizens during any kind of calamities, whereas the countries falling under cluster 0 requires help in terms of reducing their child mortality rate._**"
   ]
  },
  {
   "cell_type": "code",
   "execution_count": 44,
   "metadata": {},
   "outputs": [
    {
     "data": {
      "text/plain": [
       "Text(0.5, 1.0, 'Clusters presenting Income per person')"
      ]
     },
     "execution_count": 44,
     "metadata": {},
     "output_type": "execute_result"
    },
    {
     "data": {
      "image/png": "[encoded data removed]",
      "text/plain": [
       "<Figure size 432x288 with 1 Axes>"
      ]
     },
     "metadata": {
      "needs_background": "light"
     },
     "output_type": "display_data"
    }
   ],
   "source": [
    "sns.boxplot(x = 'cluster_id',y = 'income', data = new1, palette = 'inferno')\n",
    "plt.xlabel('Clusters')\n",
    "plt.ylabel('Net Income per person')\n",
    "plt.title('Clusters presenting Income per person')"
   ]
  },
  {
   "cell_type": "markdown",
   "metadata": {},
   "source": [
    "**_From the above plot it can be concluded that the net income per person is very low in cluster 0 which includes the under developed countries and hence it can be concluded that since the income per person is low they are not able to afford the health benefits during any disastor that occurs as their finances cannot be covered, hence ngo needs to focus on these countries more._**"
   ]
  },
  {
   "cell_type": "code",
   "execution_count": 45,
   "metadata": {
    "scrolled": true
   },
   "outputs": [
    {
     "data": {
      "text/plain": [
       "Text(0.5, 1.0, 'Clusters representing Life Expectancy')"
      ]
     },
     "execution_count": 45,
     "metadata": {},
     "output_type": "execute_result"
    },
    {
     "data": {
      "image/png": "[encoded data removed]",
      "text/plain": [
       "<Figure size 432x288 with 1 Axes>"
      ]
     },
     "metadata": {
      "needs_background": "light"
     },
     "output_type": "display_data"
    }
   ],
   "source": [
    "sns.boxplot(x = 'cluster_id', y = 'life_expec', data = new, palette = 'inferno')\n",
    "plt.xlabel('Clusters')\n",
    "plt.ylabel('Life Expectancy')\n",
    "plt.title('Clusters representing Life Expectancy')"
   ]
  },
  {
   "cell_type": "markdown",
   "metadata": {},
   "source": [
    "**_From the above plot we can observe that the average number of years a new born child would live if the current mortality patterns are to remain the same is very low in under developed countries which is cluster 0, which the ngo needs to focus on to increase._**"
   ]
  },
  {
   "cell_type": "code",
   "execution_count": 46,
   "metadata": {},
   "outputs": [
    {
     "data": {
      "text/plain": [
       "Text(0.5, 1.0, 'Clusters representing Total Fertility')"
      ]
     },
     "execution_count": 46,
     "metadata": {},
     "output_type": "execute_result"
    },
    {
     "data": {
      "image/png": "[encoded data removed]",
      "text/plain": [
       "<Figure size 432x288 with 1 Axes>"
      ]
     },
     "metadata": {
      "needs_background": "light"
     },
     "output_type": "display_data"
    }
   ],
   "source": [
    "sns.boxplot(x = 'cluster_id', y = 'total_fer', data = new, palette = 'inferno')\n",
    "plt.xlabel('Clusters')\n",
    "plt.ylabel('Total Fertility')\n",
    "plt.title('Clusters representing Total Fertility')"
   ]
  },
  {
   "cell_type": "markdown",
   "metadata": {},
   "source": [
    "**_From the above plot we can analyse that the fertility rate is higher in under developed countries as compared to developed countries and they do not have the sources to provide basic needs hence the NGO needs to focus on reducing this._**"
   ]
  },
  {
   "cell_type": "code",
   "execution_count": 47,
   "metadata": {},
   "outputs": [
    {
     "data": {
      "text/plain": [
       "Text(0.5, 1.0, 'Clusters representing Inflation Rate')"
      ]
     },
     "execution_count": 47,
     "metadata": {},
     "output_type": "execute_result"
    },
    {
     "data": {
      "image/png": "[encoded data removed]",
      "text/plain": [
       "<Figure size 432x288 with 1 Axes>"
      ]
     },
     "metadata": {
      "needs_background": "light"
     },
     "output_type": "display_data"
    }
   ],
   "source": [
    "sns.boxplot(x = 'cluster_id', y = 'inflation', data = new, palette = 'inferno')\n",
    "plt.xlabel('Clusters')\n",
    "plt.ylabel('Inflation Rate')\n",
    "plt.title('Clusters representing Inflation Rate')"
   ]
  },
  {
   "cell_type": "markdown",
   "metadata": {},
   "source": [
    "**_From the plot we can analyse that the inflation rate is much higher in under developed countries as compared to developed countries._**"
   ]
  },
  {
   "cell_type": "code",
   "execution_count": 48,
   "metadata": {
    "scrolled": true
   },
   "outputs": [
    {
     "data": {
      "text/plain": [
       "Text(0.5, 1.0, 'Clusters representing Imports')"
      ]
     },
     "execution_count": 48,
     "metadata": {},
     "output_type": "execute_result"
    },
    {
     "data": {
      "image/png": "[encoded data removed]",
      "text/plain": [
       "<Figure size 432x288 with 1 Axes>"
      ]
     },
     "metadata": {
      "needs_background": "light"
     },
     "output_type": "display_data"
    }
   ],
   "source": [
    "sns.boxplot(x = 'cluster_id', y = 'imports', data = new1, palette = 'inferno')\n",
    "plt.xlabel('Clusters')\n",
    "plt.ylabel('Imports')\n",
    "plt.title('Clusters representing Imports')"
   ]
  },
  {
   "cell_type": "markdown",
   "metadata": {},
   "source": [
    "**_While observing the imports of the countries it can be analysed that the under developed countries falling under cluster 0 are spending very less for their imports as well._**"
   ]
  },
  {
   "cell_type": "markdown",
   "metadata": {},
   "source": [
    "## Step 5 - Cluster Profiling."
   ]
  },
  {
   "cell_type": "markdown",
   "metadata": {},
   "source": [
    "**_Cluster profiling is done to generate the descriptions of the clusters with reference to the variables that were used to input._**"
   ]
  },
  {
   "cell_type": "code",
   "execution_count": 78,
   "metadata": {
    "scrolled": true
   },
   "outputs": [
    {
     "data": {
      "text/plain": [
       "Text(0.5, 1.0, 'Clusters presenting Child mortality rate and income')"
      ]
     },
     "execution_count": 78,
     "metadata": {},
     "output_type": "execute_result"
    },
    {
     "data": {
      "image/png": "[encoded data removed]",
      "text/plain": [
       "<Figure size 1008x720 with 3 Axes>"
      ]
     },
     "metadata": {
      "needs_background": "light"
     },
     "output_type": "display_data"
    }
   ],
   "source": [
    "plt.figure(figsize = (14,10))\n",
    "plt.subplot(2,2,1)\n",
    "sns.scatterplot(x = 'income',y = 'gdpp', hue = 'cluster_id', data = new1, palette = 'Set1')\n",
    "plt.xlabel('Net Income per Person')\n",
    "plt.ylabel('GDP per capita')\n",
    "plt.title('Income and GDP per capita')\n",
    "\n",
    "plt.subplot(2,2,2)\n",
    "sns.scatterplot(x = 'child_mort', y = 'gdpp', hue = 'cluster_id', data = new1, palette = 'Set1')\n",
    "plt.xlabel('Child Mortality Rate')\n",
    "plt.ylabel('GDP per capita')\n",
    "plt.title('Cluster presenting GDPP and Child mortality')\n",
    "\n",
    "plt.subplot(2,2,3)\n",
    "sns.scatterplot(x = 'child_mort', y = 'income', hue = 'cluster_id', data = new1, palette = 'Set1')\n",
    "plt.xlabel('Child Mortality Rate')\n",
    "plt.ylabel('Net income per person')\n",
    "plt.title('Clusters presenting Child mortality rate and income')"
   ]
  },
  {
   "cell_type": "markdown",
   "metadata": {},
   "source": [
    "**_After performing cluster profiling, it can be observed that we have mainly three clusters in the model namely._**\n",
    "1. Cluster 0 - Under developed countries which the NGO needs to focus on for providing any kind of relief during disasters or natural calamities.\n",
    "2. Cluster 1 - Developed countries which do not require any help.\n",
    "3. Cluster 2 - Developing countries which can also be ignored by the NGO as they do not require as much aids as compared to under developed countries."
   ]
  },
  {
   "cell_type": "code",
   "execution_count": 52,
   "metadata": {},
   "outputs": [
    {
     "data": {
      "text/plain": [
       "<matplotlib.axes._subplots.AxesSubplot at 0x1f8f1e42f88>"
      ]
     },
     "execution_count": 52,
     "metadata": {},
     "output_type": "execute_result"
    },
    {
     "data": {
      "image/png": "[encoded data removed]",
      "text/plain": [
       "<Figure size 432x288 with 1 Axes>"
      ]
     },
     "metadata": {
      "needs_background": "light"
     },
     "output_type": "display_data"
    }
   ],
   "source": [
    "new1[['gdpp','income','child_mort','cluster_id']].groupby('cluster_id').mean().plot(kind= 'bar')"
   ]
  },
  {
   "cell_type": "markdown",
   "metadata": {},
   "source": [
    "**_From the above bar plot after cluster profiling we can analyse that the countries falling under cluster 0 have low gdpp, low net income per person and high child mortality rate._**"
   ]
  },
  {
   "cell_type": "markdown",
   "metadata": {},
   "source": [
    "**_Hence we identified the clusters after cluster profiling as under developed and developed countries we can rename the cluster labels._**"
   ]
  },
  {
   "cell_type": "code",
   "execution_count": 83,
   "metadata": {},
   "outputs": [
    {
     "data": {
      "text/html": [
       "<div>\n",
       "<style scoped>\n",
       "    .dataframe tbody tr th:only-of-type {\n",
       "        vertical-align: middle;\n",
       "    }\n",
       "\n",
       "    .dataframe tbody tr th {\n",
       "        vertical-align: top;\n",
       "    }\n",
       "\n",
       "    .dataframe thead th {\n",
       "        text-align: right;\n",
       "    }\n",
       "</style>\n",
       "<table border=\"1\" class=\"dataframe\">\n",
       "  <thead>\n",
       "    <tr style=\"text-align: right;\">\n",
       "      <th></th>\n",
       "      <th>country</th>\n",
       "      <th>gdpp</th>\n",
       "      <th>child_mort</th>\n",
       "      <th>income</th>\n",
       "      <th>exports</th>\n",
       "      <th>health</th>\n",
       "      <th>imports</th>\n",
       "      <th>inflation</th>\n",
       "      <th>life_expec</th>\n",
       "      <th>total_fer</th>\n",
       "      <th>cluster_id</th>\n",
       "      <th>cluster_label</th>\n",
       "    </tr>\n",
       "  </thead>\n",
       "  <tbody>\n",
       "    <tr>\n",
       "      <td>0</td>\n",
       "      <td>Afghanistan</td>\n",
       "      <td>553</td>\n",
       "      <td>90.2</td>\n",
       "      <td>1610</td>\n",
       "      <td>55.30</td>\n",
       "      <td>41.9174</td>\n",
       "      <td>248.297</td>\n",
       "      <td>9.44</td>\n",
       "      <td>73.1</td>\n",
       "      <td>5.820</td>\n",
       "      <td>Under-Developed Countries</td>\n",
       "      <td>0</td>\n",
       "    </tr>\n",
       "    <tr>\n",
       "      <td>1</td>\n",
       "      <td>Albania</td>\n",
       "      <td>4090</td>\n",
       "      <td>16.6</td>\n",
       "      <td>9930</td>\n",
       "      <td>1145.20</td>\n",
       "      <td>267.8950</td>\n",
       "      <td>1987.740</td>\n",
       "      <td>4.49</td>\n",
       "      <td>76.3</td>\n",
       "      <td>1.650</td>\n",
       "      <td>Developing Countries</td>\n",
       "      <td>0</td>\n",
       "    </tr>\n",
       "    <tr>\n",
       "      <td>2</td>\n",
       "      <td>Algeria</td>\n",
       "      <td>4460</td>\n",
       "      <td>27.3</td>\n",
       "      <td>12900</td>\n",
       "      <td>1712.64</td>\n",
       "      <td>185.9820</td>\n",
       "      <td>1400.440</td>\n",
       "      <td>16.10</td>\n",
       "      <td>76.5</td>\n",
       "      <td>2.890</td>\n",
       "      <td>Developing Countries</td>\n",
       "      <td>0</td>\n",
       "    </tr>\n",
       "    <tr>\n",
       "      <td>3</td>\n",
       "      <td>Angola</td>\n",
       "      <td>3530</td>\n",
       "      <td>116.0</td>\n",
       "      <td>5900</td>\n",
       "      <td>2199.19</td>\n",
       "      <td>100.6050</td>\n",
       "      <td>1514.370</td>\n",
       "      <td>20.87</td>\n",
       "      <td>73.1</td>\n",
       "      <td>5.861</td>\n",
       "      <td>Under-Developed Countries</td>\n",
       "      <td>0</td>\n",
       "    </tr>\n",
       "    <tr>\n",
       "      <td>4</td>\n",
       "      <td>Antigua and Barbuda</td>\n",
       "      <td>12200</td>\n",
       "      <td>10.3</td>\n",
       "      <td>19100</td>\n",
       "      <td>5551.00</td>\n",
       "      <td>735.6600</td>\n",
       "      <td>7185.800</td>\n",
       "      <td>1.44</td>\n",
       "      <td>76.8</td>\n",
       "      <td>2.130</td>\n",
       "      <td>Developing Countries</td>\n",
       "      <td>0</td>\n",
       "    </tr>\n",
       "  </tbody>\n",
       "</table>\n",
       "</div>"
      ],
      "text/plain": [
       "               country   gdpp  child_mort  income  exports    health  \\\n",
       "0          Afghanistan    553        90.2    1610    55.30   41.9174   \n",
       "1              Albania   4090        16.6    9930  1145.20  267.8950   \n",
       "2              Algeria   4460        27.3   12900  1712.64  185.9820   \n",
       "3               Angola   3530       116.0    5900  2199.19  100.6050   \n",
       "4  Antigua and Barbuda  12200        10.3   19100  5551.00  735.6600   \n",
       "\n",
       "    imports  inflation  life_expec  total_fer                 cluster_id  \\\n",
       "0   248.297       9.44        73.1      5.820  Under-Developed Countries   \n",
       "1  1987.740       4.49        76.3      1.650       Developing Countries   \n",
       "2  1400.440      16.10        76.5      2.890       Developing Countries   \n",
       "3  1514.370      20.87        73.1      5.861  Under-Developed Countries   \n",
       "4  7185.800       1.44        76.8      2.130       Developing Countries   \n",
       "\n",
       "   cluster_label  \n",
       "0              0  \n",
       "1              0  \n",
       "2              0  \n",
       "3              0  \n",
       "4              0  "
      ]
     },
     "execution_count": 83,
     "metadata": {},
     "output_type": "execute_result"
    }
   ],
   "source": [
    "new1['cluster_id'].replace(0, 'Under-Developed Countries', inplace = True)\n",
    "new1['cluster_id'].replace(1, 'Developed Countries', inplace = True)\n",
    "new1['cluster_id'].replace(2, 'Developing Countries', inplace = True)\n",
    "new1.head()"
   ]
  },
  {
   "cell_type": "markdown",
   "metadata": {},
   "source": [
    "**_Top 5 countries which needs the NGO's help._**"
   ]
  },
  {
   "cell_type": "code",
   "execution_count": 84,
   "metadata": {},
   "outputs": [
    {
     "data": {
      "text/html": [
       "<div>\n",
       "<style scoped>\n",
       "    .dataframe tbody tr th:only-of-type {\n",
       "        vertical-align: middle;\n",
       "    }\n",
       "\n",
       "    .dataframe tbody tr th {\n",
       "        vertical-align: top;\n",
       "    }\n",
       "\n",
       "    .dataframe thead th {\n",
       "        text-align: right;\n",
       "    }\n",
       "</style>\n",
       "<table border=\"1\" class=\"dataframe\">\n",
       "  <thead>\n",
       "    <tr style=\"text-align: right;\">\n",
       "      <th></th>\n",
       "      <th>country</th>\n",
       "      <th>gdpp</th>\n",
       "      <th>child_mort</th>\n",
       "      <th>income</th>\n",
       "      <th>exports</th>\n",
       "      <th>health</th>\n",
       "      <th>imports</th>\n",
       "      <th>inflation</th>\n",
       "      <th>life_expec</th>\n",
       "      <th>total_fer</th>\n",
       "      <th>cluster_id</th>\n",
       "      <th>cluster_label</th>\n",
       "    </tr>\n",
       "  </thead>\n",
       "  <tbody>\n",
       "    <tr>\n",
       "      <td>26</td>\n",
       "      <td>Burundi</td>\n",
       "      <td>231</td>\n",
       "      <td>93.6</td>\n",
       "      <td>764</td>\n",
       "      <td>20.6052</td>\n",
       "      <td>26.7960</td>\n",
       "      <td>90.552</td>\n",
       "      <td>12.300</td>\n",
       "      <td>73.1</td>\n",
       "      <td>5.861</td>\n",
       "      <td>Under-Developed Countries</td>\n",
       "      <td>0</td>\n",
       "    </tr>\n",
       "    <tr>\n",
       "      <td>88</td>\n",
       "      <td>Liberia</td>\n",
       "      <td>327</td>\n",
       "      <td>89.3</td>\n",
       "      <td>700</td>\n",
       "      <td>62.4570</td>\n",
       "      <td>38.5860</td>\n",
       "      <td>302.802</td>\n",
       "      <td>5.470</td>\n",
       "      <td>73.1</td>\n",
       "      <td>5.020</td>\n",
       "      <td>Under-Developed Countries</td>\n",
       "      <td>0</td>\n",
       "    </tr>\n",
       "    <tr>\n",
       "      <td>37</td>\n",
       "      <td>Congo, Dem. Rep.</td>\n",
       "      <td>334</td>\n",
       "      <td>116.0</td>\n",
       "      <td>609</td>\n",
       "      <td>137.2740</td>\n",
       "      <td>26.4194</td>\n",
       "      <td>165.664</td>\n",
       "      <td>20.800</td>\n",
       "      <td>73.1</td>\n",
       "      <td>5.861</td>\n",
       "      <td>Under-Developed Countries</td>\n",
       "      <td>0</td>\n",
       "    </tr>\n",
       "    <tr>\n",
       "      <td>112</td>\n",
       "      <td>Niger</td>\n",
       "      <td>348</td>\n",
       "      <td>116.0</td>\n",
       "      <td>814</td>\n",
       "      <td>77.2560</td>\n",
       "      <td>17.9568</td>\n",
       "      <td>170.868</td>\n",
       "      <td>2.550</td>\n",
       "      <td>73.1</td>\n",
       "      <td>5.861</td>\n",
       "      <td>Under-Developed Countries</td>\n",
       "      <td>0</td>\n",
       "    </tr>\n",
       "    <tr>\n",
       "      <td>132</td>\n",
       "      <td>Sierra Leone</td>\n",
       "      <td>399</td>\n",
       "      <td>116.0</td>\n",
       "      <td>1220</td>\n",
       "      <td>67.0320</td>\n",
       "      <td>52.2690</td>\n",
       "      <td>137.655</td>\n",
       "      <td>17.200</td>\n",
       "      <td>73.1</td>\n",
       "      <td>5.200</td>\n",
       "      <td>Under-Developed Countries</td>\n",
       "      <td>0</td>\n",
       "    </tr>\n",
       "    <tr>\n",
       "      <td>93</td>\n",
       "      <td>Madagascar</td>\n",
       "      <td>413</td>\n",
       "      <td>62.2</td>\n",
       "      <td>1390</td>\n",
       "      <td>103.2500</td>\n",
       "      <td>15.5701</td>\n",
       "      <td>177.590</td>\n",
       "      <td>8.790</td>\n",
       "      <td>73.1</td>\n",
       "      <td>4.600</td>\n",
       "      <td>Under-Developed Countries</td>\n",
       "      <td>0</td>\n",
       "    </tr>\n",
       "    <tr>\n",
       "      <td>106</td>\n",
       "      <td>Mozambique</td>\n",
       "      <td>419</td>\n",
       "      <td>101.0</td>\n",
       "      <td>918</td>\n",
       "      <td>131.9850</td>\n",
       "      <td>21.8299</td>\n",
       "      <td>193.578</td>\n",
       "      <td>7.640</td>\n",
       "      <td>73.1</td>\n",
       "      <td>5.560</td>\n",
       "      <td>Under-Developed Countries</td>\n",
       "      <td>0</td>\n",
       "    </tr>\n",
       "    <tr>\n",
       "      <td>31</td>\n",
       "      <td>Central African Republic</td>\n",
       "      <td>446</td>\n",
       "      <td>116.0</td>\n",
       "      <td>888</td>\n",
       "      <td>52.6280</td>\n",
       "      <td>17.7508</td>\n",
       "      <td>118.190</td>\n",
       "      <td>2.010</td>\n",
       "      <td>73.1</td>\n",
       "      <td>5.210</td>\n",
       "      <td>Under-Developed Countries</td>\n",
       "      <td>0</td>\n",
       "    </tr>\n",
       "    <tr>\n",
       "      <td>94</td>\n",
       "      <td>Malawi</td>\n",
       "      <td>459</td>\n",
       "      <td>90.5</td>\n",
       "      <td>1030</td>\n",
       "      <td>104.6520</td>\n",
       "      <td>30.2481</td>\n",
       "      <td>160.191</td>\n",
       "      <td>12.100</td>\n",
       "      <td>73.1</td>\n",
       "      <td>5.310</td>\n",
       "      <td>Under-Developed Countries</td>\n",
       "      <td>0</td>\n",
       "    </tr>\n",
       "    <tr>\n",
       "      <td>50</td>\n",
       "      <td>Eritrea</td>\n",
       "      <td>482</td>\n",
       "      <td>55.2</td>\n",
       "      <td>1420</td>\n",
       "      <td>23.0878</td>\n",
       "      <td>12.8212</td>\n",
       "      <td>112.306</td>\n",
       "      <td>11.600</td>\n",
       "      <td>73.1</td>\n",
       "      <td>4.610</td>\n",
       "      <td>Under-Developed Countries</td>\n",
       "      <td>0</td>\n",
       "    </tr>\n",
       "    <tr>\n",
       "      <td>150</td>\n",
       "      <td>Togo</td>\n",
       "      <td>488</td>\n",
       "      <td>90.3</td>\n",
       "      <td>1210</td>\n",
       "      <td>196.1760</td>\n",
       "      <td>37.3320</td>\n",
       "      <td>279.624</td>\n",
       "      <td>1.180</td>\n",
       "      <td>73.1</td>\n",
       "      <td>4.870</td>\n",
       "      <td>Under-Developed Countries</td>\n",
       "      <td>0</td>\n",
       "    </tr>\n",
       "    <tr>\n",
       "      <td>64</td>\n",
       "      <td>Guinea-Bissau</td>\n",
       "      <td>547</td>\n",
       "      <td>114.0</td>\n",
       "      <td>1390</td>\n",
       "      <td>81.5030</td>\n",
       "      <td>46.4950</td>\n",
       "      <td>192.544</td>\n",
       "      <td>2.970</td>\n",
       "      <td>73.1</td>\n",
       "      <td>5.050</td>\n",
       "      <td>Under-Developed Countries</td>\n",
       "      <td>0</td>\n",
       "    </tr>\n",
       "    <tr>\n",
       "      <td>0</td>\n",
       "      <td>Afghanistan</td>\n",
       "      <td>553</td>\n",
       "      <td>90.2</td>\n",
       "      <td>1610</td>\n",
       "      <td>55.3000</td>\n",
       "      <td>41.9174</td>\n",
       "      <td>248.297</td>\n",
       "      <td>9.440</td>\n",
       "      <td>73.1</td>\n",
       "      <td>5.820</td>\n",
       "      <td>Under-Developed Countries</td>\n",
       "      <td>0</td>\n",
       "    </tr>\n",
       "    <tr>\n",
       "      <td>56</td>\n",
       "      <td>Gambia</td>\n",
       "      <td>562</td>\n",
       "      <td>80.3</td>\n",
       "      <td>1660</td>\n",
       "      <td>133.7560</td>\n",
       "      <td>31.9778</td>\n",
       "      <td>239.974</td>\n",
       "      <td>4.300</td>\n",
       "      <td>73.1</td>\n",
       "      <td>5.710</td>\n",
       "      <td>Under-Developed Countries</td>\n",
       "      <td>0</td>\n",
       "    </tr>\n",
       "    <tr>\n",
       "      <td>126</td>\n",
       "      <td>Rwanda</td>\n",
       "      <td>563</td>\n",
       "      <td>63.6</td>\n",
       "      <td>1350</td>\n",
       "      <td>67.5600</td>\n",
       "      <td>59.1150</td>\n",
       "      <td>168.900</td>\n",
       "      <td>2.610</td>\n",
       "      <td>73.1</td>\n",
       "      <td>4.510</td>\n",
       "      <td>Under-Developed Countries</td>\n",
       "      <td>0</td>\n",
       "    </tr>\n",
       "    <tr>\n",
       "      <td>25</td>\n",
       "      <td>Burkina Faso</td>\n",
       "      <td>575</td>\n",
       "      <td>116.0</td>\n",
       "      <td>1430</td>\n",
       "      <td>110.4000</td>\n",
       "      <td>38.7550</td>\n",
       "      <td>170.200</td>\n",
       "      <td>6.810</td>\n",
       "      <td>73.1</td>\n",
       "      <td>5.861</td>\n",
       "      <td>Under-Developed Countries</td>\n",
       "      <td>0</td>\n",
       "    </tr>\n",
       "    <tr>\n",
       "      <td>155</td>\n",
       "      <td>Uganda</td>\n",
       "      <td>595</td>\n",
       "      <td>81.0</td>\n",
       "      <td>1540</td>\n",
       "      <td>101.7450</td>\n",
       "      <td>53.6095</td>\n",
       "      <td>170.170</td>\n",
       "      <td>10.600</td>\n",
       "      <td>73.1</td>\n",
       "      <td>5.861</td>\n",
       "      <td>Under-Developed Countries</td>\n",
       "      <td>0</td>\n",
       "    </tr>\n",
       "    <tr>\n",
       "      <td>63</td>\n",
       "      <td>Guinea</td>\n",
       "      <td>648</td>\n",
       "      <td>109.0</td>\n",
       "      <td>1190</td>\n",
       "      <td>196.3440</td>\n",
       "      <td>31.9464</td>\n",
       "      <td>279.936</td>\n",
       "      <td>16.100</td>\n",
       "      <td>73.1</td>\n",
       "      <td>5.340</td>\n",
       "      <td>Under-Developed Countries</td>\n",
       "      <td>0</td>\n",
       "    </tr>\n",
       "    <tr>\n",
       "      <td>66</td>\n",
       "      <td>Haiti</td>\n",
       "      <td>662</td>\n",
       "      <td>116.0</td>\n",
       "      <td>1500</td>\n",
       "      <td>101.2860</td>\n",
       "      <td>45.7442</td>\n",
       "      <td>428.314</td>\n",
       "      <td>5.450</td>\n",
       "      <td>73.1</td>\n",
       "      <td>3.330</td>\n",
       "      <td>Under-Developed Countries</td>\n",
       "      <td>0</td>\n",
       "    </tr>\n",
       "    <tr>\n",
       "      <td>147</td>\n",
       "      <td>Tanzania</td>\n",
       "      <td>702</td>\n",
       "      <td>71.9</td>\n",
       "      <td>2090</td>\n",
       "      <td>131.2740</td>\n",
       "      <td>42.1902</td>\n",
       "      <td>204.282</td>\n",
       "      <td>9.250</td>\n",
       "      <td>73.1</td>\n",
       "      <td>5.430</td>\n",
       "      <td>Under-Developed Countries</td>\n",
       "      <td>0</td>\n",
       "    </tr>\n",
       "    <tr>\n",
       "      <td>97</td>\n",
       "      <td>Mali</td>\n",
       "      <td>708</td>\n",
       "      <td>116.0</td>\n",
       "      <td>1870</td>\n",
       "      <td>161.4240</td>\n",
       "      <td>35.2584</td>\n",
       "      <td>248.508</td>\n",
       "      <td>4.370</td>\n",
       "      <td>73.1</td>\n",
       "      <td>5.861</td>\n",
       "      <td>Under-Developed Countries</td>\n",
       "      <td>0</td>\n",
       "    </tr>\n",
       "    <tr>\n",
       "      <td>146</td>\n",
       "      <td>Tajikistan</td>\n",
       "      <td>738</td>\n",
       "      <td>52.4</td>\n",
       "      <td>2110</td>\n",
       "      <td>109.9620</td>\n",
       "      <td>44.1324</td>\n",
       "      <td>432.468</td>\n",
       "      <td>12.500</td>\n",
       "      <td>73.1</td>\n",
       "      <td>3.510</td>\n",
       "      <td>Under-Developed Countries</td>\n",
       "      <td>0</td>\n",
       "    </tr>\n",
       "    <tr>\n",
       "      <td>17</td>\n",
       "      <td>Benin</td>\n",
       "      <td>758</td>\n",
       "      <td>111.0</td>\n",
       "      <td>1820</td>\n",
       "      <td>180.4040</td>\n",
       "      <td>31.0780</td>\n",
       "      <td>281.976</td>\n",
       "      <td>0.885</td>\n",
       "      <td>73.1</td>\n",
       "      <td>5.360</td>\n",
       "      <td>Under-Developed Countries</td>\n",
       "      <td>0</td>\n",
       "    </tr>\n",
       "    <tr>\n",
       "      <td>36</td>\n",
       "      <td>Comoros</td>\n",
       "      <td>769</td>\n",
       "      <td>88.2</td>\n",
       "      <td>1410</td>\n",
       "      <td>126.8850</td>\n",
       "      <td>34.6819</td>\n",
       "      <td>397.573</td>\n",
       "      <td>3.870</td>\n",
       "      <td>73.1</td>\n",
       "      <td>4.750</td>\n",
       "      <td>Under-Developed Countries</td>\n",
       "      <td>0</td>\n",
       "    </tr>\n",
       "    <tr>\n",
       "      <td>32</td>\n",
       "      <td>Chad</td>\n",
       "      <td>897</td>\n",
       "      <td>116.0</td>\n",
       "      <td>1930</td>\n",
       "      <td>330.0960</td>\n",
       "      <td>40.6341</td>\n",
       "      <td>390.195</td>\n",
       "      <td>6.390</td>\n",
       "      <td>73.1</td>\n",
       "      <td>5.861</td>\n",
       "      <td>Under-Developed Countries</td>\n",
       "      <td>0</td>\n",
       "    </tr>\n",
       "    <tr>\n",
       "      <td>80</td>\n",
       "      <td>Kenya</td>\n",
       "      <td>967</td>\n",
       "      <td>62.2</td>\n",
       "      <td>2480</td>\n",
       "      <td>200.1690</td>\n",
       "      <td>45.9325</td>\n",
       "      <td>324.912</td>\n",
       "      <td>2.090</td>\n",
       "      <td>73.1</td>\n",
       "      <td>4.370</td>\n",
       "      <td>Under-Developed Countries</td>\n",
       "      <td>0</td>\n",
       "    </tr>\n",
       "    <tr>\n",
       "      <td>129</td>\n",
       "      <td>Senegal</td>\n",
       "      <td>1000</td>\n",
       "      <td>66.8</td>\n",
       "      <td>2180</td>\n",
       "      <td>249.0000</td>\n",
       "      <td>56.6000</td>\n",
       "      <td>403.000</td>\n",
       "      <td>1.850</td>\n",
       "      <td>73.1</td>\n",
       "      <td>5.060</td>\n",
       "      <td>Under-Developed Countries</td>\n",
       "      <td>0</td>\n",
       "    </tr>\n",
       "    <tr>\n",
       "      <td>116</td>\n",
       "      <td>Pakistan</td>\n",
       "      <td>1040</td>\n",
       "      <td>92.1</td>\n",
       "      <td>4280</td>\n",
       "      <td>140.4000</td>\n",
       "      <td>22.8800</td>\n",
       "      <td>201.760</td>\n",
       "      <td>10.900</td>\n",
       "      <td>73.1</td>\n",
       "      <td>3.850</td>\n",
       "      <td>Under-Developed Countries</td>\n",
       "      <td>0</td>\n",
       "    </tr>\n",
       "    <tr>\n",
       "      <td>84</td>\n",
       "      <td>Lao</td>\n",
       "      <td>1140</td>\n",
       "      <td>78.9</td>\n",
       "      <td>3980</td>\n",
       "      <td>403.5600</td>\n",
       "      <td>50.9580</td>\n",
       "      <td>562.020</td>\n",
       "      <td>9.200</td>\n",
       "      <td>73.1</td>\n",
       "      <td>3.150</td>\n",
       "      <td>Under-Developed Countries</td>\n",
       "      <td>0</td>\n",
       "    </tr>\n",
       "    <tr>\n",
       "      <td>87</td>\n",
       "      <td>Lesotho</td>\n",
       "      <td>1170</td>\n",
       "      <td>99.7</td>\n",
       "      <td>2380</td>\n",
       "      <td>460.9800</td>\n",
       "      <td>129.8700</td>\n",
       "      <td>1181.700</td>\n",
       "      <td>4.150</td>\n",
       "      <td>73.1</td>\n",
       "      <td>3.300</td>\n",
       "      <td>Under-Developed Countries</td>\n",
       "      <td>0</td>\n",
       "    </tr>\n",
       "    <tr>\n",
       "      <td>99</td>\n",
       "      <td>Mauritania</td>\n",
       "      <td>1200</td>\n",
       "      <td>97.4</td>\n",
       "      <td>3320</td>\n",
       "      <td>608.4000</td>\n",
       "      <td>52.9200</td>\n",
       "      <td>734.400</td>\n",
       "      <td>18.900</td>\n",
       "      <td>73.1</td>\n",
       "      <td>4.980</td>\n",
       "      <td>Under-Developed Countries</td>\n",
       "      <td>0</td>\n",
       "    </tr>\n",
       "    <tr>\n",
       "      <td>40</td>\n",
       "      <td>Cote d'Ivoire</td>\n",
       "      <td>1220</td>\n",
       "      <td>111.0</td>\n",
       "      <td>2690</td>\n",
       "      <td>617.3200</td>\n",
       "      <td>64.6600</td>\n",
       "      <td>528.260</td>\n",
       "      <td>5.390</td>\n",
       "      <td>73.1</td>\n",
       "      <td>5.270</td>\n",
       "      <td>Under-Developed Countries</td>\n",
       "      <td>0</td>\n",
       "    </tr>\n",
       "    <tr>\n",
       "      <td>165</td>\n",
       "      <td>Yemen</td>\n",
       "      <td>1310</td>\n",
       "      <td>56.3</td>\n",
       "      <td>4480</td>\n",
       "      <td>393.0000</td>\n",
       "      <td>67.8580</td>\n",
       "      <td>450.640</td>\n",
       "      <td>20.870</td>\n",
       "      <td>73.1</td>\n",
       "      <td>4.670</td>\n",
       "      <td>Under-Developed Countries</td>\n",
       "      <td>0</td>\n",
       "    </tr>\n",
       "    <tr>\n",
       "      <td>59</td>\n",
       "      <td>Ghana</td>\n",
       "      <td>1310</td>\n",
       "      <td>74.7</td>\n",
       "      <td>3060</td>\n",
       "      <td>386.4500</td>\n",
       "      <td>68.3820</td>\n",
       "      <td>601.290</td>\n",
       "      <td>16.600</td>\n",
       "      <td>73.1</td>\n",
       "      <td>4.270</td>\n",
       "      <td>Under-Developed Countries</td>\n",
       "      <td>0</td>\n",
       "    </tr>\n",
       "    <tr>\n",
       "      <td>28</td>\n",
       "      <td>Cameroon</td>\n",
       "      <td>1310</td>\n",
       "      <td>108.0</td>\n",
       "      <td>2660</td>\n",
       "      <td>290.8200</td>\n",
       "      <td>67.2030</td>\n",
       "      <td>353.700</td>\n",
       "      <td>1.910</td>\n",
       "      <td>73.1</td>\n",
       "      <td>5.110</td>\n",
       "      <td>Under-Developed Countries</td>\n",
       "      <td>0</td>\n",
       "    </tr>\n",
       "    <tr>\n",
       "      <td>166</td>\n",
       "      <td>Zambia</td>\n",
       "      <td>1460</td>\n",
       "      <td>83.1</td>\n",
       "      <td>3280</td>\n",
       "      <td>540.2000</td>\n",
       "      <td>85.9940</td>\n",
       "      <td>451.140</td>\n",
       "      <td>14.000</td>\n",
       "      <td>73.1</td>\n",
       "      <td>5.400</td>\n",
       "      <td>Under-Developed Countries</td>\n",
       "      <td>0</td>\n",
       "    </tr>\n",
       "    <tr>\n",
       "      <td>142</td>\n",
       "      <td>Sudan</td>\n",
       "      <td>1480</td>\n",
       "      <td>76.7</td>\n",
       "      <td>3370</td>\n",
       "      <td>291.5600</td>\n",
       "      <td>93.5360</td>\n",
       "      <td>254.560</td>\n",
       "      <td>19.600</td>\n",
       "      <td>73.1</td>\n",
       "      <td>4.880</td>\n",
       "      <td>Under-Developed Countries</td>\n",
       "      <td>0</td>\n",
       "    </tr>\n",
       "    <tr>\n",
       "      <td>81</td>\n",
       "      <td>Kiribati</td>\n",
       "      <td>1490</td>\n",
       "      <td>62.7</td>\n",
       "      <td>1730</td>\n",
       "      <td>198.1700</td>\n",
       "      <td>168.3700</td>\n",
       "      <td>1190.510</td>\n",
       "      <td>1.520</td>\n",
       "      <td>73.1</td>\n",
       "      <td>3.840</td>\n",
       "      <td>Under-Developed Countries</td>\n",
       "      <td>0</td>\n",
       "    </tr>\n",
       "    <tr>\n",
       "      <td>113</td>\n",
       "      <td>Nigeria</td>\n",
       "      <td>2330</td>\n",
       "      <td>116.0</td>\n",
       "      <td>5150</td>\n",
       "      <td>589.4900</td>\n",
       "      <td>118.1310</td>\n",
       "      <td>405.420</td>\n",
       "      <td>20.870</td>\n",
       "      <td>73.1</td>\n",
       "      <td>5.840</td>\n",
       "      <td>Under-Developed Countries</td>\n",
       "      <td>0</td>\n",
       "    </tr>\n",
       "    <tr>\n",
       "      <td>38</td>\n",
       "      <td>Congo, Rep.</td>\n",
       "      <td>2740</td>\n",
       "      <td>63.9</td>\n",
       "      <td>5190</td>\n",
       "      <td>2331.7400</td>\n",
       "      <td>67.4040</td>\n",
       "      <td>1498.780</td>\n",
       "      <td>20.700</td>\n",
       "      <td>73.1</td>\n",
       "      <td>4.950</td>\n",
       "      <td>Under-Developed Countries</td>\n",
       "      <td>0</td>\n",
       "    </tr>\n",
       "    <tr>\n",
       "      <td>3</td>\n",
       "      <td>Angola</td>\n",
       "      <td>3530</td>\n",
       "      <td>116.0</td>\n",
       "      <td>5900</td>\n",
       "      <td>2199.1900</td>\n",
       "      <td>100.6050</td>\n",
       "      <td>1514.370</td>\n",
       "      <td>20.870</td>\n",
       "      <td>73.1</td>\n",
       "      <td>5.861</td>\n",
       "      <td>Under-Developed Countries</td>\n",
       "      <td>0</td>\n",
       "    </tr>\n",
       "    <tr>\n",
       "      <td>149</td>\n",
       "      <td>Timor-Leste</td>\n",
       "      <td>3600</td>\n",
       "      <td>62.6</td>\n",
       "      <td>1850</td>\n",
       "      <td>79.2000</td>\n",
       "      <td>328.3200</td>\n",
       "      <td>1000.800</td>\n",
       "      <td>20.870</td>\n",
       "      <td>73.1</td>\n",
       "      <td>5.861</td>\n",
       "      <td>Under-Developed Countries</td>\n",
       "      <td>0</td>\n",
       "    </tr>\n",
       "    <tr>\n",
       "      <td>72</td>\n",
       "      <td>Iraq</td>\n",
       "      <td>4500</td>\n",
       "      <td>36.9</td>\n",
       "      <td>12700</td>\n",
       "      <td>1773.0000</td>\n",
       "      <td>378.4500</td>\n",
       "      <td>1534.500</td>\n",
       "      <td>16.600</td>\n",
       "      <td>73.1</td>\n",
       "      <td>4.560</td>\n",
       "      <td>Under-Developed Countries</td>\n",
       "      <td>0</td>\n",
       "    </tr>\n",
       "    <tr>\n",
       "      <td>55</td>\n",
       "      <td>Gabon</td>\n",
       "      <td>8750</td>\n",
       "      <td>63.7</td>\n",
       "      <td>15400</td>\n",
       "      <td>5048.7500</td>\n",
       "      <td>306.2500</td>\n",
       "      <td>1653.750</td>\n",
       "      <td>16.600</td>\n",
       "      <td>73.1</td>\n",
       "      <td>4.080</td>\n",
       "      <td>Under-Developed Countries</td>\n",
       "      <td>0</td>\n",
       "    </tr>\n",
       "    <tr>\n",
       "      <td>49</td>\n",
       "      <td>Equatorial Guinea</td>\n",
       "      <td>17100</td>\n",
       "      <td>111.0</td>\n",
       "      <td>33700</td>\n",
       "      <td>14671.8000</td>\n",
       "      <td>766.0800</td>\n",
       "      <td>10071.900</td>\n",
       "      <td>20.870</td>\n",
       "      <td>73.1</td>\n",
       "      <td>5.210</td>\n",
       "      <td>Under-Developed Countries</td>\n",
       "      <td>0</td>\n",
       "    </tr>\n",
       "  </tbody>\n",
       "</table>\n",
       "</div>"
      ],
      "text/plain": [
       "                      country   gdpp  child_mort  income     exports  \\\n",
       "26                    Burundi    231        93.6     764     20.6052   \n",
       "88                    Liberia    327        89.3     700     62.4570   \n",
       "37           Congo, Dem. Rep.    334       116.0     609    137.2740   \n",
       "112                     Niger    348       116.0     814     77.2560   \n",
       "132              Sierra Leone    399       116.0    1220     67.0320   \n",
       "93                 Madagascar    413        62.2    1390    103.2500   \n",
       "106                Mozambique    419       101.0     918    131.9850   \n",
       "31   Central African Republic    446       116.0     888     52.6280   \n",
       "94                     Malawi    459        90.5    1030    104.6520   \n",
       "50                    Eritrea    482        55.2    1420     23.0878   \n",
       "150                      Togo    488        90.3    1210    196.1760   \n",
       "64              Guinea-Bissau    547       114.0    1390     81.5030   \n",
       "0                 Afghanistan    553        90.2    1610     55.3000   \n",
       "56                     Gambia    562        80.3    1660    133.7560   \n",
       "126                    Rwanda    563        63.6    1350     67.5600   \n",
       "25               Burkina Faso    575       116.0    1430    110.4000   \n",
       "155                    Uganda    595        81.0    1540    101.7450   \n",
       "63                     Guinea    648       109.0    1190    196.3440   \n",
       "66                      Haiti    662       116.0    1500    101.2860   \n",
       "147                  Tanzania    702        71.9    2090    131.2740   \n",
       "97                       Mali    708       116.0    1870    161.4240   \n",
       "146                Tajikistan    738        52.4    2110    109.9620   \n",
       "17                      Benin    758       111.0    1820    180.4040   \n",
       "36                    Comoros    769        88.2    1410    126.8850   \n",
       "32                       Chad    897       116.0    1930    330.0960   \n",
       "80                      Kenya    967        62.2    2480    200.1690   \n",
       "129                   Senegal   1000        66.8    2180    249.0000   \n",
       "116                  Pakistan   1040        92.1    4280    140.4000   \n",
       "84                        Lao   1140        78.9    3980    403.5600   \n",
       "87                    Lesotho   1170        99.7    2380    460.9800   \n",
       "99                 Mauritania   1200        97.4    3320    608.4000   \n",
       "40              Cote d'Ivoire   1220       111.0    2690    617.3200   \n",
       "165                     Yemen   1310        56.3    4480    393.0000   \n",
       "59                      Ghana   1310        74.7    3060    386.4500   \n",
       "28                   Cameroon   1310       108.0    2660    290.8200   \n",
       "166                    Zambia   1460        83.1    3280    540.2000   \n",
       "142                     Sudan   1480        76.7    3370    291.5600   \n",
       "81                   Kiribati   1490        62.7    1730    198.1700   \n",
       "113                   Nigeria   2330       116.0    5150    589.4900   \n",
       "38                Congo, Rep.   2740        63.9    5190   2331.7400   \n",
       "3                      Angola   3530       116.0    5900   2199.1900   \n",
       "149               Timor-Leste   3600        62.6    1850     79.2000   \n",
       "72                       Iraq   4500        36.9   12700   1773.0000   \n",
       "55                      Gabon   8750        63.7   15400   5048.7500   \n",
       "49          Equatorial Guinea  17100       111.0   33700  14671.8000   \n",
       "\n",
       "       health    imports  inflation  life_expec  total_fer  \\\n",
       "26    26.7960     90.552     12.300        73.1      5.861   \n",
       "88    38.5860    302.802      5.470        73.1      5.020   \n",
       "37    26.4194    165.664     20.800        73.1      5.861   \n",
       "112   17.9568    170.868      2.550        73.1      5.861   \n",
       "132   52.2690    137.655     17.200        73.1      5.200   \n",
       "93    15.5701    177.590      8.790        73.1      4.600   \n",
       "106   21.8299    193.578      7.640        73.1      5.560   \n",
       "31    17.7508    118.190      2.010        73.1      5.210   \n",
       "94    30.2481    160.191     12.100        73.1      5.310   \n",
       "50    12.8212    112.306     11.600        73.1      4.610   \n",
       "150   37.3320    279.624      1.180        73.1      4.870   \n",
       "64    46.4950    192.544      2.970        73.1      5.050   \n",
       "0     41.9174    248.297      9.440        73.1      5.820   \n",
       "56    31.9778    239.974      4.300        73.1      5.710   \n",
       "126   59.1150    168.900      2.610        73.1      4.510   \n",
       "25    38.7550    170.200      6.810        73.1      5.861   \n",
       "155   53.6095    170.170     10.600        73.1      5.861   \n",
       "63    31.9464    279.936     16.100        73.1      5.340   \n",
       "66    45.7442    428.314      5.450        73.1      3.330   \n",
       "147   42.1902    204.282      9.250        73.1      5.430   \n",
       "97    35.2584    248.508      4.370        73.1      5.861   \n",
       "146   44.1324    432.468     12.500        73.1      3.510   \n",
       "17    31.0780    281.976      0.885        73.1      5.360   \n",
       "36    34.6819    397.573      3.870        73.1      4.750   \n",
       "32    40.6341    390.195      6.390        73.1      5.861   \n",
       "80    45.9325    324.912      2.090        73.1      4.370   \n",
       "129   56.6000    403.000      1.850        73.1      5.060   \n",
       "116   22.8800    201.760     10.900        73.1      3.850   \n",
       "84    50.9580    562.020      9.200        73.1      3.150   \n",
       "87   129.8700   1181.700      4.150        73.1      3.300   \n",
       "99    52.9200    734.400     18.900        73.1      4.980   \n",
       "40    64.6600    528.260      5.390        73.1      5.270   \n",
       "165   67.8580    450.640     20.870        73.1      4.670   \n",
       "59    68.3820    601.290     16.600        73.1      4.270   \n",
       "28    67.2030    353.700      1.910        73.1      5.110   \n",
       "166   85.9940    451.140     14.000        73.1      5.400   \n",
       "142   93.5360    254.560     19.600        73.1      4.880   \n",
       "81   168.3700   1190.510      1.520        73.1      3.840   \n",
       "113  118.1310    405.420     20.870        73.1      5.840   \n",
       "38    67.4040   1498.780     20.700        73.1      4.950   \n",
       "3    100.6050   1514.370     20.870        73.1      5.861   \n",
       "149  328.3200   1000.800     20.870        73.1      5.861   \n",
       "72   378.4500   1534.500     16.600        73.1      4.560   \n",
       "55   306.2500   1653.750     16.600        73.1      4.080   \n",
       "49   766.0800  10071.900     20.870        73.1      5.210   \n",
       "\n",
       "                    cluster_id  cluster_label  \n",
       "26   Under-Developed Countries              0  \n",
       "88   Under-Developed Countries              0  \n",
       "37   Under-Developed Countries              0  \n",
       "112  Under-Developed Countries              0  \n",
       "132  Under-Developed Countries              0  \n",
       "93   Under-Developed Countries              0  \n",
       "106  Under-Developed Countries              0  \n",
       "31   Under-Developed Countries              0  \n",
       "94   Under-Developed Countries              0  \n",
       "50   Under-Developed Countries              0  \n",
       "150  Under-Developed Countries              0  \n",
       "64   Under-Developed Countries              0  \n",
       "0    Under-Developed Countries              0  \n",
       "56   Under-Developed Countries              0  \n",
       "126  Under-Developed Countries              0  \n",
       "25   Under-Developed Countries              0  \n",
       "155  Under-Developed Countries              0  \n",
       "63   Under-Developed Countries              0  \n",
       "66   Under-Developed Countries              0  \n",
       "147  Under-Developed Countries              0  \n",
       "97   Under-Developed Countries              0  \n",
       "146  Under-Developed Countries              0  \n",
       "17   Under-Developed Countries              0  \n",
       "36   Under-Developed Countries              0  \n",
       "32   Under-Developed Countries              0  \n",
       "80   Under-Developed Countries              0  \n",
       "129  Under-Developed Countries              0  \n",
       "116  Under-Developed Countries              0  \n",
       "84   Under-Developed Countries              0  \n",
       "87   Under-Developed Countries              0  \n",
       "99   Under-Developed Countries              0  \n",
       "40   Under-Developed Countries              0  \n",
       "165  Under-Developed Countries              0  \n",
       "59   Under-Developed Countries              0  \n",
       "28   Under-Developed Countries              0  \n",
       "166  Under-Developed Countries              0  \n",
       "142  Under-Developed Countries              0  \n",
       "81   Under-Developed Countries              0  \n",
       "113  Under-Developed Countries              0  \n",
       "38   Under-Developed Countries              0  \n",
       "3    Under-Developed Countries              0  \n",
       "149  Under-Developed Countries              0  \n",
       "72   Under-Developed Countries              0  \n",
       "55   Under-Developed Countries              0  \n",
       "49   Under-Developed Countries              0  "
      ]
     },
     "execution_count": 84,
     "metadata": {},
     "output_type": "execute_result"
    }
   ],
   "source": [
    "new1[new1['cluster_id']=='Under-Developed Countries'].sort_values(by= ['gdpp','child_mort','income'], ascending = True)"
   ]
  },
  {
   "cell_type": "markdown",
   "metadata": {},
   "source": [
    "**_After performing the K means clustering for the NGO to help find out in which areas and which countries it needs to provide aid during disasters and natural calamities, we came to the final conclusion that the following 5 countries need the maximum aid:_**\n",
    "1. Burundi.\n",
    "2. Liberia.\n",
    "3. Congo. Demo. Rep.\n",
    "4. Niger.\n",
    "5. Sierra Leone.\n",
    "\n",
    "**_The NGO run its operational projects from time to time along with advocacy drives to raise awareness as well as for funding purposes for these countries._**\n",
    "\n",
    "**_The areas in which these coutries need aid are as follows:_**\n",
    "1. They need help in decreasing their child mortality rate, which seems to be high.\n",
    "2. As well the health spending per capita of these countries is less which can be considered as one of the reasons as to the less health facilities and increased child mortality rate as well less life expectancy, since they are not able to decrease the child mortality rate the life expectancy cannot be increased.\n",
    "3. The inflation rate in these countries is high which can be concluded as to their less spending on health facilities as the citizens do not have enough finances to cover during such calamities or other issues as the net income per person is low as well."
   ]
  },
  {
   "cell_type": "markdown",
   "metadata": {},
   "source": [
    "# Heirarchical Clustering"
   ]
  },
  {
   "cell_type": "markdown",
   "metadata": {},
   "source": [
    "**_Hierarchical Clustering starts by treating each observation as a separate cluster, then the following two steps are repeated:_**\n",
    "1. Identify the two clusters that are closest to each other.\n",
    "2. Merge the two most similar clusters.\n",
    "\n",
    "**_This process continues until all clusters are merged together._**"
   ]
  },
  {
   "cell_type": "code",
   "execution_count": 54,
   "metadata": {},
   "outputs": [
    {
     "data": {
      "text/html": [
       "<div>\n",
       "<style scoped>\n",
       "    .dataframe tbody tr th:only-of-type {\n",
       "        vertical-align: middle;\n",
       "    }\n",
       "\n",
       "    .dataframe tbody tr th {\n",
       "        vertical-align: top;\n",
       "    }\n",
       "\n",
       "    .dataframe thead th {\n",
       "        text-align: right;\n",
       "    }\n",
       "</style>\n",
       "<table border=\"1\" class=\"dataframe\">\n",
       "  <thead>\n",
       "    <tr style=\"text-align: right;\">\n",
       "      <th></th>\n",
       "      <th>gdpp</th>\n",
       "      <th>child_mort</th>\n",
       "      <th>income</th>\n",
       "      <th>exports</th>\n",
       "      <th>health</th>\n",
       "      <th>income</th>\n",
       "      <th>inflation</th>\n",
       "      <th>life_expec</th>\n",
       "      <th>total_fer</th>\n",
       "    </tr>\n",
       "  </thead>\n",
       "  <tbody>\n",
       "    <tr>\n",
       "      <td>0</td>\n",
       "      <td>-0.679180</td>\n",
       "      <td>1.479341</td>\n",
       "      <td>-0.808245</td>\n",
       "      <td>-0.411011</td>\n",
       "      <td>-0.565040</td>\n",
       "      <td>-0.432276</td>\n",
       "      <td>0.394438</td>\n",
       "      <td>-0.754360</td>\n",
       "      <td>2.016421</td>\n",
       "    </tr>\n",
       "    <tr>\n",
       "      <td>1</td>\n",
       "      <td>-0.485623</td>\n",
       "      <td>-0.559029</td>\n",
       "      <td>-0.375369</td>\n",
       "      <td>-0.350191</td>\n",
       "      <td>-0.439218</td>\n",
       "      <td>-0.313677</td>\n",
       "      <td>-0.383226</td>\n",
       "      <td>0.337246</td>\n",
       "      <td>-0.880535</td>\n",
       "    </tr>\n",
       "    <tr>\n",
       "      <td>2</td>\n",
       "      <td>-0.465376</td>\n",
       "      <td>-0.262690</td>\n",
       "      <td>-0.220844</td>\n",
       "      <td>-0.318526</td>\n",
       "      <td>-0.484826</td>\n",
       "      <td>-0.353720</td>\n",
       "      <td>1.440750</td>\n",
       "      <td>0.405471</td>\n",
       "      <td>-0.019090</td>\n",
       "    </tr>\n",
       "    <tr>\n",
       "      <td>3</td>\n",
       "      <td>-0.516268</td>\n",
       "      <td>2.193878</td>\n",
       "      <td>-0.585043</td>\n",
       "      <td>-0.291375</td>\n",
       "      <td>-0.532363</td>\n",
       "      <td>-0.345953</td>\n",
       "      <td>2.190136</td>\n",
       "      <td>-0.754360</td>\n",
       "      <td>2.044904</td>\n",
       "    </tr>\n",
       "    <tr>\n",
       "      <td>4</td>\n",
       "      <td>-0.041817</td>\n",
       "      <td>-0.733509</td>\n",
       "      <td>0.101732</td>\n",
       "      <td>-0.104331</td>\n",
       "      <td>-0.178771</td>\n",
       "      <td>0.040735</td>\n",
       "      <td>-0.862393</td>\n",
       "      <td>0.507809</td>\n",
       "      <td>-0.547072</td>\n",
       "    </tr>\n",
       "  </tbody>\n",
       "</table>\n",
       "</div>"
      ],
      "text/plain": [
       "       gdpp  child_mort    income   exports    health    income  inflation  \\\n",
       "0 -0.679180    1.479341 -0.808245 -0.411011 -0.565040 -0.432276   0.394438   \n",
       "1 -0.485623   -0.559029 -0.375369 -0.350191 -0.439218 -0.313677  -0.383226   \n",
       "2 -0.465376   -0.262690 -0.220844 -0.318526 -0.484826 -0.353720   1.440750   \n",
       "3 -0.516268    2.193878 -0.585043 -0.291375 -0.532363 -0.345953   2.190136   \n",
       "4 -0.041817   -0.733509  0.101732 -0.104331 -0.178771  0.040735  -0.862393   \n",
       "\n",
       "   life_expec  total_fer  \n",
       "0   -0.754360   2.016421  \n",
       "1    0.337246  -0.880535  \n",
       "2    0.405471  -0.019090  \n",
       "3   -0.754360   2.044904  \n",
       "4    0.507809  -0.547072  "
      ]
     },
     "execution_count": 54,
     "metadata": {},
     "output_type": "execute_result"
    }
   ],
   "source": [
    "scaledf.head()"
   ]
  },
  {
   "cell_type": "code",
   "execution_count": 55,
   "metadata": {},
   "outputs": [
    {
     "data": {
      "text/html": [
       "<div>\n",
       "<style scoped>\n",
       "    .dataframe tbody tr th:only-of-type {\n",
       "        vertical-align: middle;\n",
       "    }\n",
       "\n",
       "    .dataframe tbody tr th {\n",
       "        vertical-align: top;\n",
       "    }\n",
       "\n",
       "    .dataframe thead th {\n",
       "        text-align: right;\n",
       "    }\n",
       "</style>\n",
       "<table border=\"1\" class=\"dataframe\">\n",
       "  <thead>\n",
       "    <tr style=\"text-align: right;\">\n",
       "      <th></th>\n",
       "      <th>country</th>\n",
       "      <th>gdpp</th>\n",
       "      <th>child_mort</th>\n",
       "      <th>income</th>\n",
       "      <th>exports</th>\n",
       "      <th>health</th>\n",
       "      <th>imports</th>\n",
       "      <th>inflation</th>\n",
       "      <th>life_expec</th>\n",
       "      <th>total_fer</th>\n",
       "      <th>cluster_id</th>\n",
       "    </tr>\n",
       "  </thead>\n",
       "  <tbody>\n",
       "    <tr>\n",
       "      <td>0</td>\n",
       "      <td>Afghanistan</td>\n",
       "      <td>553</td>\n",
       "      <td>90.2</td>\n",
       "      <td>1610</td>\n",
       "      <td>55.30</td>\n",
       "      <td>41.9174</td>\n",
       "      <td>248.297</td>\n",
       "      <td>9.44</td>\n",
       "      <td>73.1</td>\n",
       "      <td>5.820</td>\n",
       "      <td>0</td>\n",
       "    </tr>\n",
       "    <tr>\n",
       "      <td>1</td>\n",
       "      <td>Albania</td>\n",
       "      <td>4090</td>\n",
       "      <td>16.6</td>\n",
       "      <td>9930</td>\n",
       "      <td>1145.20</td>\n",
       "      <td>267.8950</td>\n",
       "      <td>1987.740</td>\n",
       "      <td>4.49</td>\n",
       "      <td>76.3</td>\n",
       "      <td>1.650</td>\n",
       "      <td>2</td>\n",
       "    </tr>\n",
       "    <tr>\n",
       "      <td>2</td>\n",
       "      <td>Algeria</td>\n",
       "      <td>4460</td>\n",
       "      <td>27.3</td>\n",
       "      <td>12900</td>\n",
       "      <td>1712.64</td>\n",
       "      <td>185.9820</td>\n",
       "      <td>1400.440</td>\n",
       "      <td>16.10</td>\n",
       "      <td>76.5</td>\n",
       "      <td>2.890</td>\n",
       "      <td>2</td>\n",
       "    </tr>\n",
       "    <tr>\n",
       "      <td>3</td>\n",
       "      <td>Angola</td>\n",
       "      <td>3530</td>\n",
       "      <td>116.0</td>\n",
       "      <td>5900</td>\n",
       "      <td>2199.19</td>\n",
       "      <td>100.6050</td>\n",
       "      <td>1514.370</td>\n",
       "      <td>20.87</td>\n",
       "      <td>73.1</td>\n",
       "      <td>5.861</td>\n",
       "      <td>0</td>\n",
       "    </tr>\n",
       "    <tr>\n",
       "      <td>4</td>\n",
       "      <td>Antigua and Barbuda</td>\n",
       "      <td>12200</td>\n",
       "      <td>10.3</td>\n",
       "      <td>19100</td>\n",
       "      <td>5551.00</td>\n",
       "      <td>735.6600</td>\n",
       "      <td>7185.800</td>\n",
       "      <td>1.44</td>\n",
       "      <td>76.8</td>\n",
       "      <td>2.130</td>\n",
       "      <td>2</td>\n",
       "    </tr>\n",
       "  </tbody>\n",
       "</table>\n",
       "</div>"
      ],
      "text/plain": [
       "               country   gdpp  child_mort  income  exports    health  \\\n",
       "0          Afghanistan    553        90.2    1610    55.30   41.9174   \n",
       "1              Albania   4090        16.6    9930  1145.20  267.8950   \n",
       "2              Algeria   4460        27.3   12900  1712.64  185.9820   \n",
       "3               Angola   3530       116.0    5900  2199.19  100.6050   \n",
       "4  Antigua and Barbuda  12200        10.3   19100  5551.00  735.6600   \n",
       "\n",
       "    imports  inflation  life_expec  total_fer  cluster_id  \n",
       "0   248.297       9.44        73.1      5.820           0  \n",
       "1  1987.740       4.49        76.3      1.650           2  \n",
       "2  1400.440      16.10        76.5      2.890           2  \n",
       "3  1514.370      20.87        73.1      5.861           0  \n",
       "4  7185.800       1.44        76.8      2.130           2  "
      ]
     },
     "execution_count": 55,
     "metadata": {},
     "output_type": "execute_result"
    }
   ],
   "source": [
    "new1.head()"
   ]
  },
  {
   "cell_type": "markdown",
   "metadata": {},
   "source": [
    "\n",
    "## Single Linkage"
   ]
  },
  {
   "cell_type": "code",
   "execution_count": 56,
   "metadata": {},
   "outputs": [
    {
     "data": {
      "image/png": "[encoded data removed]",
      "text/plain": [
       "<Figure size 432x288 with 1 Axes>"
      ]
     },
     "metadata": {
      "needs_background": "light"
     },
     "output_type": "display_data"
    }
   ],
   "source": [
    "h1 = linkage(scaledf, method = 'single', metric = 'euclidean')\n",
    "dendrogram(h1)\n",
    "plt.show()"
   ]
  },
  {
   "cell_type": "markdown",
   "metadata": {},
   "source": [
    "**_After performing the single linkage it is difficult to analyse the optimal number of clusters as the dendrogram is not structured properly hence we need to perform the complete linkage._**"
   ]
  },
  {
   "cell_type": "markdown",
   "metadata": {},
   "source": [
    "## Complete Linkage"
   ]
  },
  {
   "cell_type": "code",
   "execution_count": 57,
   "metadata": {},
   "outputs": [
    {
     "data": {
      "image/png": "[encoded data removed]",
      "text/plain": [
       "<Figure size 576x288 with 1 Axes>"
      ]
     },
     "metadata": {
      "needs_background": "light"
     },
     "output_type": "display_data"
    }
   ],
   "source": [
    "h2 = linkage(scaledf, method = 'complete', metric = 'euclidean')\n",
    "plt.figure(figsize = (8,4))\n",
    "dendrogram(h2)\n",
    "plt.show()"
   ]
  },
  {
   "cell_type": "markdown",
   "metadata": {},
   "source": [
    "**_The complete linkage produces a proper tree structure which helps us to identify the optimal number of clusters which is 3._**"
   ]
  },
  {
   "cell_type": "code",
   "execution_count": 58,
   "metadata": {
    "scrolled": true
   },
   "outputs": [
    {
     "data": {
      "text/plain": [
       "array([0, 0, 0, 0, 0, 0, 0, 1, 1, 0, 0, 1, 0, 0, 0, 1, 0, 0, 0, 0, 0, 0,\n",
       "       0, 1, 0, 0, 0, 0, 0, 1, 0, 0, 0, 0, 0, 0, 0, 0, 0, 0, 0, 0, 1, 0,\n",
       "       1, 0, 0, 0, 0, 0, 0, 0, 0, 1, 1, 0, 0, 0, 1, 0, 1, 0, 0, 0, 0, 0,\n",
       "       0, 0, 1, 0, 0, 0, 0, 1, 1, 1, 0, 1, 0, 0, 0, 0, 1, 0, 0, 0, 0, 0,\n",
       "       0, 1, 0, 2, 0, 0, 0, 0, 0, 0, 1, 0, 0, 0, 0, 0, 0, 0, 0, 0, 0, 0,\n",
       "       1, 1, 0, 0, 1, 1, 0, 0, 0, 0, 0, 0, 1, 1, 0, 0, 0, 0, 1, 0, 0, 0,\n",
       "       0, 1, 0, 1, 0, 0, 1, 1, 0, 0, 0, 0, 1, 1, 0, 0, 0, 0, 0, 0, 0, 0,\n",
       "       0, 0, 0, 1, 1, 1, 0, 0, 0, 0, 0, 0, 0])"
      ]
     },
     "execution_count": 58,
     "metadata": {},
     "output_type": "execute_result"
    }
   ],
   "source": [
    "cluster_label = cut_tree(h2, n_clusters = 3).reshape(-1, )\n",
    "cluster_label"
   ]
  },
  {
   "cell_type": "markdown",
   "metadata": {},
   "source": [
    "**_Assigning the cluster labels._**"
   ]
  },
  {
   "cell_type": "code",
   "execution_count": 59,
   "metadata": {},
   "outputs": [
    {
     "data": {
      "text/html": [
       "<div>\n",
       "<style scoped>\n",
       "    .dataframe tbody tr th:only-of-type {\n",
       "        vertical-align: middle;\n",
       "    }\n",
       "\n",
       "    .dataframe tbody tr th {\n",
       "        vertical-align: top;\n",
       "    }\n",
       "\n",
       "    .dataframe thead th {\n",
       "        text-align: right;\n",
       "    }\n",
       "</style>\n",
       "<table border=\"1\" class=\"dataframe\">\n",
       "  <thead>\n",
       "    <tr style=\"text-align: right;\">\n",
       "      <th></th>\n",
       "      <th>country</th>\n",
       "      <th>gdpp</th>\n",
       "      <th>child_mort</th>\n",
       "      <th>income</th>\n",
       "      <th>exports</th>\n",
       "      <th>health</th>\n",
       "      <th>imports</th>\n",
       "      <th>inflation</th>\n",
       "      <th>life_expec</th>\n",
       "      <th>total_fer</th>\n",
       "      <th>cluster_id</th>\n",
       "      <th>cluster_label</th>\n",
       "    </tr>\n",
       "  </thead>\n",
       "  <tbody>\n",
       "    <tr>\n",
       "      <td>0</td>\n",
       "      <td>Afghanistan</td>\n",
       "      <td>553</td>\n",
       "      <td>90.2</td>\n",
       "      <td>1610</td>\n",
       "      <td>55.30</td>\n",
       "      <td>41.9174</td>\n",
       "      <td>248.297</td>\n",
       "      <td>9.44</td>\n",
       "      <td>73.1</td>\n",
       "      <td>5.820</td>\n",
       "      <td>0</td>\n",
       "      <td>0</td>\n",
       "    </tr>\n",
       "    <tr>\n",
       "      <td>1</td>\n",
       "      <td>Albania</td>\n",
       "      <td>4090</td>\n",
       "      <td>16.6</td>\n",
       "      <td>9930</td>\n",
       "      <td>1145.20</td>\n",
       "      <td>267.8950</td>\n",
       "      <td>1987.740</td>\n",
       "      <td>4.49</td>\n",
       "      <td>76.3</td>\n",
       "      <td>1.650</td>\n",
       "      <td>2</td>\n",
       "      <td>0</td>\n",
       "    </tr>\n",
       "    <tr>\n",
       "      <td>2</td>\n",
       "      <td>Algeria</td>\n",
       "      <td>4460</td>\n",
       "      <td>27.3</td>\n",
       "      <td>12900</td>\n",
       "      <td>1712.64</td>\n",
       "      <td>185.9820</td>\n",
       "      <td>1400.440</td>\n",
       "      <td>16.10</td>\n",
       "      <td>76.5</td>\n",
       "      <td>2.890</td>\n",
       "      <td>2</td>\n",
       "      <td>0</td>\n",
       "    </tr>\n",
       "    <tr>\n",
       "      <td>3</td>\n",
       "      <td>Angola</td>\n",
       "      <td>3530</td>\n",
       "      <td>116.0</td>\n",
       "      <td>5900</td>\n",
       "      <td>2199.19</td>\n",
       "      <td>100.6050</td>\n",
       "      <td>1514.370</td>\n",
       "      <td>20.87</td>\n",
       "      <td>73.1</td>\n",
       "      <td>5.861</td>\n",
       "      <td>0</td>\n",
       "      <td>0</td>\n",
       "    </tr>\n",
       "    <tr>\n",
       "      <td>4</td>\n",
       "      <td>Antigua and Barbuda</td>\n",
       "      <td>12200</td>\n",
       "      <td>10.3</td>\n",
       "      <td>19100</td>\n",
       "      <td>5551.00</td>\n",
       "      <td>735.6600</td>\n",
       "      <td>7185.800</td>\n",
       "      <td>1.44</td>\n",
       "      <td>76.8</td>\n",
       "      <td>2.130</td>\n",
       "      <td>2</td>\n",
       "      <td>0</td>\n",
       "    </tr>\n",
       "  </tbody>\n",
       "</table>\n",
       "</div>"
      ],
      "text/plain": [
       "               country   gdpp  child_mort  income  exports    health  \\\n",
       "0          Afghanistan    553        90.2    1610    55.30   41.9174   \n",
       "1              Albania   4090        16.6    9930  1145.20  267.8950   \n",
       "2              Algeria   4460        27.3   12900  1712.64  185.9820   \n",
       "3               Angola   3530       116.0    5900  2199.19  100.6050   \n",
       "4  Antigua and Barbuda  12200        10.3   19100  5551.00  735.6600   \n",
       "\n",
       "    imports  inflation  life_expec  total_fer  cluster_id  cluster_label  \n",
       "0   248.297       9.44        73.1      5.820           0              0  \n",
       "1  1987.740       4.49        76.3      1.650           2              0  \n",
       "2  1400.440      16.10        76.5      2.890           2              0  \n",
       "3  1514.370      20.87        73.1      5.861           0              0  \n",
       "4  7185.800       1.44        76.8      2.130           2              0  "
      ]
     },
     "execution_count": 59,
     "metadata": {},
     "output_type": "execute_result"
    }
   ],
   "source": [
    "new1['cluster_label'] = cluster_label\n",
    "new1.head()"
   ]
  },
  {
   "cell_type": "code",
   "execution_count": 72,
   "metadata": {},
   "outputs": [
    {
     "data": {
      "text/plain": [
       "0    130\n",
       "1     36\n",
       "2      1\n",
       "Name: cluster_label, dtype: int64"
      ]
     },
     "execution_count": 72,
     "metadata": {},
     "output_type": "execute_result"
    }
   ],
   "source": [
    "new1['cluster_label'].value_counts()"
   ]
  },
  {
   "cell_type": "markdown",
   "metadata": {},
   "source": [
    "**_Visualizing the plots._**"
   ]
  },
  {
   "cell_type": "code",
   "execution_count": 60,
   "metadata": {
    "scrolled": true
   },
   "outputs": [
    {
     "data": {
      "text/plain": [
       "Text(0.5, 1.0, 'Clusters presenting GDPP')"
      ]
     },
     "execution_count": 60,
     "metadata": {},
     "output_type": "execute_result"
    },
    {
     "data": {
      "image/png": "[encoded data removed]",
      "text/plain": [
       "<Figure size 432x288 with 1 Axes>"
      ]
     },
     "metadata": {
      "needs_background": "light"
     },
     "output_type": "display_data"
    }
   ],
   "source": [
    "sns.boxplot(x = 'cluster_label', y = 'gdpp', data = new1, palette = 'inferno')\n",
    "plt.xlabel('Clusters')\n",
    "plt.ylabel('GDPP')\n",
    "plt.title('Clusters presenting GDPP')"
   ]
  },
  {
   "cell_type": "markdown",
   "metadata": {},
   "source": [
    "**_From above plot we can analyse that the cluster 0 includes the under developed countries as its GDPP is below 20000 and cluster 1 includes developed as well as developing countries as cluster 2 just has 1 country in it._**"
   ]
  },
  {
   "cell_type": "code",
   "execution_count": 61,
   "metadata": {},
   "outputs": [
    {
     "data": {
      "text/plain": [
       "Text(0.5, 1.0, 'Clusters presenting income')"
      ]
     },
     "execution_count": 61,
     "metadata": {},
     "output_type": "execute_result"
    },
    {
     "data": {
      "image/png": "[encoded data removed]",
      "text/plain": [
       "<Figure size 432x288 with 1 Axes>"
      ]
     },
     "metadata": {
      "needs_background": "light"
     },
     "output_type": "display_data"
    }
   ],
   "source": [
    "sns.boxplot(x = 'cluster_label', y = 'income', data = new1, palette = 'inferno')\n",
    "plt.xlabel('Clusters')\n",
    "plt.ylabel('Income')\n",
    "plt.title('Clusters presenting income')"
   ]
  },
  {
   "cell_type": "markdown",
   "metadata": {},
   "source": [
    "**_In the above cluster presentation it can be analysed that the cluster 0 are under developed countries as the net income per person is below 20000, and this can be considered as one of the reasons why these countries suffer during disasters and natural calamities as their citizens are not able to afford the health facilities which leads to increased child mortality rate and less life expectancy._**"
   ]
  },
  {
   "cell_type": "code",
   "execution_count": 62,
   "metadata": {
    "scrolled": true
   },
   "outputs": [
    {
     "data": {
      "text/plain": [
       "Text(0.5, 1.0, 'Clusters presenting Child Mortality')"
      ]
     },
     "execution_count": 62,
     "metadata": {},
     "output_type": "execute_result"
    },
    {
     "data": {
      "image/png": "[encoded data removed]",
      "text/plain": [
       "<Figure size 432x288 with 1 Axes>"
      ]
     },
     "metadata": {
      "needs_background": "light"
     },
     "output_type": "display_data"
    }
   ],
   "source": [
    "sns.boxplot(x = 'cluster_label',y = 'child_mort', data = new1, palette = 'inferno')\n",
    "plt.xlabel('Clusters')\n",
    "plt.ylabel('Child Mortality')\n",
    "plt.title('Clusters presenting Child Mortality')"
   ]
  },
  {
   "cell_type": "markdown",
   "metadata": {},
   "source": [
    "**_In visualising clusters presenting child mortality it can be analysed that the cluster 0 has the highest child mortality which incdicates of the countries which are in need of the help of NGO._**"
   ]
  },
  {
   "cell_type": "code",
   "execution_count": 63,
   "metadata": {},
   "outputs": [
    {
     "data": {
      "text/plain": [
       "Text(0.5, 1.0, 'Clusters presenting Health')"
      ]
     },
     "execution_count": 63,
     "metadata": {},
     "output_type": "execute_result"
    },
    {
     "data": {
      "image/png": "[encoded data removed]",
      "text/plain": [
       "<Figure size 432x288 with 1 Axes>"
      ]
     },
     "metadata": {
      "needs_background": "light"
     },
     "output_type": "display_data"
    }
   ],
   "source": [
    "sns.boxplot(x = 'cluster_label',y = 'health', data = new1, palette = 'inferno')\n",
    "plt.xlabel('Clusters')\n",
    "plt.ylabel('Health')\n",
    "plt.title('Clusters presenting Health')"
   ]
  },
  {
   "cell_type": "markdown",
   "metadata": {},
   "source": []
  },
  {
   "cell_type": "markdown",
   "metadata": {},
   "source": [
    "### Cluster Profiling"
   ]
  },
  {
   "cell_type": "code",
   "execution_count": 79,
   "metadata": {},
   "outputs": [
    {
     "data": {
      "text/plain": [
       "Text(0.5, 1.0, 'Clusters presenting Child Mortality and GDPP')"
      ]
     },
     "execution_count": 79,
     "metadata": {},
     "output_type": "execute_result"
    },
    {
     "data": {
      "image/png": "[encoded data removed]",
      "text/plain": [
       "<Figure size 1008x720 with 3 Axes>"
      ]
     },
     "metadata": {
      "needs_background": "light"
     },
     "output_type": "display_data"
    }
   ],
   "source": [
    "plt.figure(figsize = (14,10))\n",
    "plt.subplot(2,2,1)\n",
    "sns.scatterplot(x = 'income',y = 'gdpp', hue = 'cluster_label', data = new1, palette = 'Set1')\n",
    "plt.xlabel('Income')\n",
    "plt.ylabel('GDP per capita')\n",
    "plt.title('Clusters presenting Income and GDPP')\n",
    "\n",
    "plt.subplot(2,2,2)\n",
    "sns.scatterplot(x = 'child_mort',y = 'income', hue = 'cluster_label', data = new1, palette = 'Set1')\n",
    "plt.xlabel('Child Mortality')\n",
    "plt.ylabel('Income')\n",
    "plt.title('Clusters presenting Income and Child Mortality')\n",
    "\n",
    "plt.subplot(2,2,3)\n",
    "sns.scatterplot(x = 'gdpp',y = 'child_mort', hue = 'cluster_label', data = new1, palette = 'Set1')\n",
    "plt.xlabel('GDPP')\n",
    "plt.ylabel('Child Mortality')\n",
    "plt.title('Clusters presenting Child Mortality and GDPP')"
   ]
  },
  {
   "cell_type": "markdown",
   "metadata": {},
   "source": [
    "**_After cluster profiling we can observe that there are mainly 2 clusters in this which are:._**\n",
    "1. Cluster 0 - The under developed countries which are denoted by red dots.\n",
    "2. Cluster 1 - The developed and developing countries which are denoted by orange dots."
   ]
  },
  {
   "cell_type": "code",
   "execution_count": 67,
   "metadata": {},
   "outputs": [
    {
     "data": {
      "text/plain": [
       "<matplotlib.axes._subplots.AxesSubplot at 0x1f8f265e8c8>"
      ]
     },
     "execution_count": 67,
     "metadata": {},
     "output_type": "execute_result"
    },
    {
     "data": {
      "image/png": "[encoded data removed]",
      "text/plain": [
       "<Figure size 432x288 with 1 Axes>"
      ]
     },
     "metadata": {
      "needs_background": "light"
     },
     "output_type": "display_data"
    }
   ],
   "source": [
    "new1[['gdpp','income','child_mort','cluster_label']].groupby('cluster_label').mean().plot(kind= 'bar')"
   ]
  },
  {
   "cell_type": "markdown",
   "metadata": {},
   "source": [
    "**_From the above bar plot it can be analysed that the cluster 0 comes under under developed countries and has low gdpp low income and high child mortality rate._**"
   ]
  },
  {
   "cell_type": "markdown",
   "metadata": {},
   "source": [
    "**_After performing cluster profiling we identified the clusters as developed and under developed counties hence renaming the values accordingly._**"
   ]
  },
  {
   "cell_type": "code",
   "execution_count": 85,
   "metadata": {},
   "outputs": [
    {
     "data": {
      "text/html": [
       "<div>\n",
       "<style scoped>\n",
       "    .dataframe tbody tr th:only-of-type {\n",
       "        vertical-align: middle;\n",
       "    }\n",
       "\n",
       "    .dataframe tbody tr th {\n",
       "        vertical-align: top;\n",
       "    }\n",
       "\n",
       "    .dataframe thead th {\n",
       "        text-align: right;\n",
       "    }\n",
       "</style>\n",
       "<table border=\"1\" class=\"dataframe\">\n",
       "  <thead>\n",
       "    <tr style=\"text-align: right;\">\n",
       "      <th></th>\n",
       "      <th>country</th>\n",
       "      <th>gdpp</th>\n",
       "      <th>child_mort</th>\n",
       "      <th>income</th>\n",
       "      <th>exports</th>\n",
       "      <th>health</th>\n",
       "      <th>imports</th>\n",
       "      <th>inflation</th>\n",
       "      <th>life_expec</th>\n",
       "      <th>total_fer</th>\n",
       "      <th>cluster_id</th>\n",
       "      <th>cluster_label</th>\n",
       "    </tr>\n",
       "  </thead>\n",
       "  <tbody>\n",
       "    <tr>\n",
       "      <td>0</td>\n",
       "      <td>Afghanistan</td>\n",
       "      <td>553</td>\n",
       "      <td>90.2</td>\n",
       "      <td>1610</td>\n",
       "      <td>55.30</td>\n",
       "      <td>41.9174</td>\n",
       "      <td>248.297</td>\n",
       "      <td>9.44</td>\n",
       "      <td>73.1</td>\n",
       "      <td>5.820</td>\n",
       "      <td>Under-Developed Countries</td>\n",
       "      <td>Under-Developed Countries</td>\n",
       "    </tr>\n",
       "    <tr>\n",
       "      <td>1</td>\n",
       "      <td>Albania</td>\n",
       "      <td>4090</td>\n",
       "      <td>16.6</td>\n",
       "      <td>9930</td>\n",
       "      <td>1145.20</td>\n",
       "      <td>267.8950</td>\n",
       "      <td>1987.740</td>\n",
       "      <td>4.49</td>\n",
       "      <td>76.3</td>\n",
       "      <td>1.650</td>\n",
       "      <td>Developing Countries</td>\n",
       "      <td>Under-Developed Countries</td>\n",
       "    </tr>\n",
       "    <tr>\n",
       "      <td>2</td>\n",
       "      <td>Algeria</td>\n",
       "      <td>4460</td>\n",
       "      <td>27.3</td>\n",
       "      <td>12900</td>\n",
       "      <td>1712.64</td>\n",
       "      <td>185.9820</td>\n",
       "      <td>1400.440</td>\n",
       "      <td>16.10</td>\n",
       "      <td>76.5</td>\n",
       "      <td>2.890</td>\n",
       "      <td>Developing Countries</td>\n",
       "      <td>Under-Developed Countries</td>\n",
       "    </tr>\n",
       "    <tr>\n",
       "      <td>3</td>\n",
       "      <td>Angola</td>\n",
       "      <td>3530</td>\n",
       "      <td>116.0</td>\n",
       "      <td>5900</td>\n",
       "      <td>2199.19</td>\n",
       "      <td>100.6050</td>\n",
       "      <td>1514.370</td>\n",
       "      <td>20.87</td>\n",
       "      <td>73.1</td>\n",
       "      <td>5.861</td>\n",
       "      <td>Under-Developed Countries</td>\n",
       "      <td>Under-Developed Countries</td>\n",
       "    </tr>\n",
       "    <tr>\n",
       "      <td>4</td>\n",
       "      <td>Antigua and Barbuda</td>\n",
       "      <td>12200</td>\n",
       "      <td>10.3</td>\n",
       "      <td>19100</td>\n",
       "      <td>5551.00</td>\n",
       "      <td>735.6600</td>\n",
       "      <td>7185.800</td>\n",
       "      <td>1.44</td>\n",
       "      <td>76.8</td>\n",
       "      <td>2.130</td>\n",
       "      <td>Developing Countries</td>\n",
       "      <td>Under-Developed Countries</td>\n",
       "    </tr>\n",
       "  </tbody>\n",
       "</table>\n",
       "</div>"
      ],
      "text/plain": [
       "               country   gdpp  child_mort  income  exports    health  \\\n",
       "0          Afghanistan    553        90.2    1610    55.30   41.9174   \n",
       "1              Albania   4090        16.6    9930  1145.20  267.8950   \n",
       "2              Algeria   4460        27.3   12900  1712.64  185.9820   \n",
       "3               Angola   3530       116.0    5900  2199.19  100.6050   \n",
       "4  Antigua and Barbuda  12200        10.3   19100  5551.00  735.6600   \n",
       "\n",
       "    imports  inflation  life_expec  total_fer                 cluster_id  \\\n",
       "0   248.297       9.44        73.1      5.820  Under-Developed Countries   \n",
       "1  1987.740       4.49        76.3      1.650       Developing Countries   \n",
       "2  1400.440      16.10        76.5      2.890       Developing Countries   \n",
       "3  1514.370      20.87        73.1      5.861  Under-Developed Countries   \n",
       "4  7185.800       1.44        76.8      2.130       Developing Countries   \n",
       "\n",
       "               cluster_label  \n",
       "0  Under-Developed Countries  \n",
       "1  Under-Developed Countries  \n",
       "2  Under-Developed Countries  \n",
       "3  Under-Developed Countries  \n",
       "4  Under-Developed Countries  "
      ]
     },
     "execution_count": 85,
     "metadata": {},
     "output_type": "execute_result"
    }
   ],
   "source": [
    "new1['cluster_label'].replace(0, 'Under-Developed Countries', inplace = True)\n",
    "new1['cluster_label'].replace(1, 'Developed and Developing Countries', inplace = True)\n",
    "new1.head()"
   ]
  },
  {
   "cell_type": "markdown",
   "metadata": {},
   "source": [
    "**_Top 5 countries in need of help from NGO._**"
   ]
  },
  {
   "cell_type": "code",
   "execution_count": 86,
   "metadata": {},
   "outputs": [
    {
     "data": {
      "text/html": [
       "<div>\n",
       "<style scoped>\n",
       "    .dataframe tbody tr th:only-of-type {\n",
       "        vertical-align: middle;\n",
       "    }\n",
       "\n",
       "    .dataframe tbody tr th {\n",
       "        vertical-align: top;\n",
       "    }\n",
       "\n",
       "    .dataframe thead th {\n",
       "        text-align: right;\n",
       "    }\n",
       "</style>\n",
       "<table border=\"1\" class=\"dataframe\">\n",
       "  <thead>\n",
       "    <tr style=\"text-align: right;\">\n",
       "      <th></th>\n",
       "      <th>country</th>\n",
       "      <th>gdpp</th>\n",
       "      <th>child_mort</th>\n",
       "      <th>income</th>\n",
       "      <th>exports</th>\n",
       "      <th>health</th>\n",
       "      <th>imports</th>\n",
       "      <th>inflation</th>\n",
       "      <th>life_expec</th>\n",
       "      <th>total_fer</th>\n",
       "      <th>cluster_id</th>\n",
       "      <th>cluster_label</th>\n",
       "    </tr>\n",
       "  </thead>\n",
       "  <tbody>\n",
       "    <tr>\n",
       "      <td>26</td>\n",
       "      <td>Burundi</td>\n",
       "      <td>231</td>\n",
       "      <td>93.6</td>\n",
       "      <td>764</td>\n",
       "      <td>20.6052</td>\n",
       "      <td>26.7960</td>\n",
       "      <td>90.552</td>\n",
       "      <td>12.300</td>\n",
       "      <td>73.1</td>\n",
       "      <td>5.861</td>\n",
       "      <td>Under-Developed Countries</td>\n",
       "      <td>Under-Developed Countries</td>\n",
       "    </tr>\n",
       "    <tr>\n",
       "      <td>88</td>\n",
       "      <td>Liberia</td>\n",
       "      <td>327</td>\n",
       "      <td>89.3</td>\n",
       "      <td>700</td>\n",
       "      <td>62.4570</td>\n",
       "      <td>38.5860</td>\n",
       "      <td>302.802</td>\n",
       "      <td>5.470</td>\n",
       "      <td>73.1</td>\n",
       "      <td>5.020</td>\n",
       "      <td>Under-Developed Countries</td>\n",
       "      <td>Under-Developed Countries</td>\n",
       "    </tr>\n",
       "    <tr>\n",
       "      <td>37</td>\n",
       "      <td>Congo, Dem. Rep.</td>\n",
       "      <td>334</td>\n",
       "      <td>116.0</td>\n",
       "      <td>609</td>\n",
       "      <td>137.2740</td>\n",
       "      <td>26.4194</td>\n",
       "      <td>165.664</td>\n",
       "      <td>20.800</td>\n",
       "      <td>73.1</td>\n",
       "      <td>5.861</td>\n",
       "      <td>Under-Developed Countries</td>\n",
       "      <td>Under-Developed Countries</td>\n",
       "    </tr>\n",
       "    <tr>\n",
       "      <td>112</td>\n",
       "      <td>Niger</td>\n",
       "      <td>348</td>\n",
       "      <td>116.0</td>\n",
       "      <td>814</td>\n",
       "      <td>77.2560</td>\n",
       "      <td>17.9568</td>\n",
       "      <td>170.868</td>\n",
       "      <td>2.550</td>\n",
       "      <td>73.1</td>\n",
       "      <td>5.861</td>\n",
       "      <td>Under-Developed Countries</td>\n",
       "      <td>Under-Developed Countries</td>\n",
       "    </tr>\n",
       "    <tr>\n",
       "      <td>132</td>\n",
       "      <td>Sierra Leone</td>\n",
       "      <td>399</td>\n",
       "      <td>116.0</td>\n",
       "      <td>1220</td>\n",
       "      <td>67.0320</td>\n",
       "      <td>52.2690</td>\n",
       "      <td>137.655</td>\n",
       "      <td>17.200</td>\n",
       "      <td>73.1</td>\n",
       "      <td>5.200</td>\n",
       "      <td>Under-Developed Countries</td>\n",
       "      <td>Under-Developed Countries</td>\n",
       "    </tr>\n",
       "    <tr>\n",
       "      <td>...</td>\n",
       "      <td>...</td>\n",
       "      <td>...</td>\n",
       "      <td>...</td>\n",
       "      <td>...</td>\n",
       "      <td>...</td>\n",
       "      <td>...</td>\n",
       "      <td>...</td>\n",
       "      <td>...</td>\n",
       "      <td>...</td>\n",
       "      <td>...</td>\n",
       "      <td>...</td>\n",
       "      <td>...</td>\n",
       "    </tr>\n",
       "    <tr>\n",
       "      <td>13</td>\n",
       "      <td>Barbados</td>\n",
       "      <td>16000</td>\n",
       "      <td>14.2</td>\n",
       "      <td>15300</td>\n",
       "      <td>6320.0000</td>\n",
       "      <td>1275.2000</td>\n",
       "      <td>7792.000</td>\n",
       "      <td>0.321</td>\n",
       "      <td>76.7</td>\n",
       "      <td>1.780</td>\n",
       "      <td>Developing Countries</td>\n",
       "      <td>Under-Developed Countries</td>\n",
       "    </tr>\n",
       "    <tr>\n",
       "      <td>134</td>\n",
       "      <td>Slovak Republic</td>\n",
       "      <td>16600</td>\n",
       "      <td>7.0</td>\n",
       "      <td>25200</td>\n",
       "      <td>12665.8000</td>\n",
       "      <td>1459.1400</td>\n",
       "      <td>12914.800</td>\n",
       "      <td>0.485</td>\n",
       "      <td>75.5</td>\n",
       "      <td>1.430</td>\n",
       "      <td>Developing Countries</td>\n",
       "      <td>Under-Developed Countries</td>\n",
       "    </tr>\n",
       "    <tr>\n",
       "      <td>49</td>\n",
       "      <td>Equatorial Guinea</td>\n",
       "      <td>17100</td>\n",
       "      <td>111.0</td>\n",
       "      <td>33700</td>\n",
       "      <td>14671.8000</td>\n",
       "      <td>766.0800</td>\n",
       "      <td>10071.900</td>\n",
       "      <td>20.870</td>\n",
       "      <td>73.1</td>\n",
       "      <td>5.210</td>\n",
       "      <td>Under-Developed Countries</td>\n",
       "      <td>Under-Developed Countries</td>\n",
       "    </tr>\n",
       "    <tr>\n",
       "      <td>43</td>\n",
       "      <td>Czech Republic</td>\n",
       "      <td>19800</td>\n",
       "      <td>3.4</td>\n",
       "      <td>28300</td>\n",
       "      <td>13068.0000</td>\n",
       "      <td>1560.2400</td>\n",
       "      <td>12454.200</td>\n",
       "      <td>-1.430</td>\n",
       "      <td>77.5</td>\n",
       "      <td>1.510</td>\n",
       "      <td>Developing Countries</td>\n",
       "      <td>Under-Developed Countries</td>\n",
       "    </tr>\n",
       "    <tr>\n",
       "      <td>10</td>\n",
       "      <td>Bahamas</td>\n",
       "      <td>28000</td>\n",
       "      <td>13.8</td>\n",
       "      <td>22900</td>\n",
       "      <td>9800.0000</td>\n",
       "      <td>2209.2000</td>\n",
       "      <td>12236.000</td>\n",
       "      <td>-0.393</td>\n",
       "      <td>73.8</td>\n",
       "      <td>1.860</td>\n",
       "      <td>Developing Countries</td>\n",
       "      <td>Under-Developed Countries</td>\n",
       "    </tr>\n",
       "  </tbody>\n",
       "</table>\n",
       "<p>130 rows × 12 columns</p>\n",
       "</div>"
      ],
      "text/plain": [
       "               country   gdpp  child_mort  income     exports     health  \\\n",
       "26             Burundi    231        93.6     764     20.6052    26.7960   \n",
       "88             Liberia    327        89.3     700     62.4570    38.5860   \n",
       "37    Congo, Dem. Rep.    334       116.0     609    137.2740    26.4194   \n",
       "112              Niger    348       116.0     814     77.2560    17.9568   \n",
       "132       Sierra Leone    399       116.0    1220     67.0320    52.2690   \n",
       "..                 ...    ...         ...     ...         ...        ...   \n",
       "13            Barbados  16000        14.2   15300   6320.0000  1275.2000   \n",
       "134    Slovak Republic  16600         7.0   25200  12665.8000  1459.1400   \n",
       "49   Equatorial Guinea  17100       111.0   33700  14671.8000   766.0800   \n",
       "43      Czech Republic  19800         3.4   28300  13068.0000  1560.2400   \n",
       "10             Bahamas  28000        13.8   22900   9800.0000  2209.2000   \n",
       "\n",
       "       imports  inflation  life_expec  total_fer                 cluster_id  \\\n",
       "26      90.552     12.300        73.1      5.861  Under-Developed Countries   \n",
       "88     302.802      5.470        73.1      5.020  Under-Developed Countries   \n",
       "37     165.664     20.800        73.1      5.861  Under-Developed Countries   \n",
       "112    170.868      2.550        73.1      5.861  Under-Developed Countries   \n",
       "132    137.655     17.200        73.1      5.200  Under-Developed Countries   \n",
       "..         ...        ...         ...        ...                        ...   \n",
       "13    7792.000      0.321        76.7      1.780       Developing Countries   \n",
       "134  12914.800      0.485        75.5      1.430       Developing Countries   \n",
       "49   10071.900     20.870        73.1      5.210  Under-Developed Countries   \n",
       "43   12454.200     -1.430        77.5      1.510       Developing Countries   \n",
       "10   12236.000     -0.393        73.8      1.860       Developing Countries   \n",
       "\n",
       "                 cluster_label  \n",
       "26   Under-Developed Countries  \n",
       "88   Under-Developed Countries  \n",
       "37   Under-Developed Countries  \n",
       "112  Under-Developed Countries  \n",
       "132  Under-Developed Countries  \n",
       "..                         ...  \n",
       "13   Under-Developed Countries  \n",
       "134  Under-Developed Countries  \n",
       "49   Under-Developed Countries  \n",
       "43   Under-Developed Countries  \n",
       "10   Under-Developed Countries  \n",
       "\n",
       "[130 rows x 12 columns]"
      ]
     },
     "execution_count": 86,
     "metadata": {},
     "output_type": "execute_result"
    }
   ],
   "source": [
    "new1[new1['cluster_label']=='Under-Developed Countries'].sort_values(by= ['gdpp','child_mort','income'], ascending = True)"
   ]
  },
  {
   "cell_type": "markdown",
   "metadata": {},
   "source": [
    "**_After performing the Heirarchical clustering for the NGO to help find out in which areas and which countries it needs to provide aid during disasters and natural calamities, we came to the final conclusion that the following 5 countries need the maximum aid:_**\n",
    "1. Burundi.\n",
    "2. Liberia.\n",
    "3. Congo. Demo. Rep.\n",
    "4. Niger.\n",
    "5. Sierra Leone."
   ]
  },
  {
   "cell_type": "markdown",
   "metadata": {},
   "source": [
    "## Step 6 - Conclusion and Recommendations"
   ]
  },
  {
   "cell_type": "markdown",
   "metadata": {},
   "source": [
    "**_After performing both the clustering methods for the NGO we came to the conclusion that following 5 countries are in the maximum need of ais from NGO and it can start providing its operational projects from time to time along with advocacy drives to raise awareness as well as for funding purposes for these countries:_**\n",
    "1. Burundi.\n",
    "2. Liberia.\n",
    "3. Congo. Demo. Rep.\n",
    "4. Niger.\n",
    "5. Sierra Leone.\n"
   ]
  },
  {
   "cell_type": "markdown",
   "metadata": {},
   "source": [
    "**_We can recommend to use the Kmeans clustering modelling for the NGO to identify the countries in need of help as Kmeans clustering clearly identifies the three categories of countries and._**\n",
    "\n",
    "**_Recommendations for the areas in which these coutries need aid are as follows:_**\n",
    "1. These countries require help in decreasing their child mortality rate, which seems to be high, hence the NGO can provide health facilities to these countries which may help in reducing the child mortality rate, the NGO needs to focus more towards reducing the child mortality as it can be identified as the main issue faced by these countries, hence they can provide funding and create operational camps for the awareness towards the child mortality and to care for the health of children.\n",
    "2. As well the health spending per capita of these countries is less which can be considered as one of the reasons for less health facilities and increased child mortality rate as well less life expectancy, since they are not able to decrease the child mortality rate the life expectancy cannot be increased, hence the NGO can provide funding aid towards healthcare of these countries.\n",
    "3. The inflation rate in these countries is high which can be concluded as to their less spending on health facilities as the citizens do not have enough finances to cover during natural disasters, hence the NGO can work with these countries in providing proper jobs for the citizens of these countries.\n",
    "4. The total fertility rate is high, hence the NGO needs to organize awareness for the health risks of the women as well they can create awareness camps for further educating citizens regarding child health.\n",
    "5. The net income per person is also very low for these countries hence to help aid in poverty the NGO can work with these countries in order to provide them with a bit more paying jobs which can as well help in aiding other health care issues as well."
   ]
  },
  {
   "cell_type": "code",
   "execution_count": null,
   "metadata": {},
   "outputs": [],
   "source": []
  }
 ],
 "metadata": {
  "kernelspec": {
   "display_name": "Python 3",
   "language": "python",
   "name": "python3"
  },
  "language_info": {
   "codemirror_mode": {
    "name": "ipython",
    "version": 3
   },
   "file_extension": ".py",
   "mimetype": "text/x-python",
   "name": "python",
   "nbconvert_exporter": "python",
   "pygments_lexer": "ipython3",
   "version": "3.7.4"
  }
 },
 "nbformat": 4,
 "nbformat_minor": 2
}
